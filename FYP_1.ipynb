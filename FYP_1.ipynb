{
 "cells": [
  {
   "cell_type": "code",
   "execution_count": 1,
   "metadata": {},
   "outputs": [],
   "source": [
    "import importlib\n",
    "import matplotlib.pyplot as mp\n",
    "import numpy as np\n",
    "\n",
    "# Define IAM role\n",
    "#import boto3\n",
    "import re\n",
    "import gzip\n",
    "%matplotlib inline\n",
    "import datetime\n",
    "\n",
    "from sklearn.decomposition import PCA\n",
    "\n",
    "from sklearn import tree\n",
    "from sklearn.tree import export_graphviz\n",
    "import graphviz\n",
    "\n",
    "# create a python file with some functions that we'll use for the analysis\n",
    "#import funcs\n",
    "# for clustering\n",
    "from sklearn.cluster import KMeans\n",
    "# since I'll be updating funcs.py regularly, tell Jupyter to automatically reload before executing a command \n",
    "%load_ext autoreload\n",
    "%autoreload 2\n",
    "\n",
    "\n",
    "# to make matplotlib plots appear inline\n",
    "%matplotlib inline"
   ]
  },
  {
   "cell_type": "code",
   "execution_count": 2,
   "metadata": {},
   "outputs": [],
   "source": [
    "import pandas as pd"
   ]
  },
  {
   "cell_type": "code",
   "execution_count": 3,
   "metadata": {},
   "outputs": [],
   "source": [
    "def get_data(filename, comma):\n",
    "    \n",
    "    if comma:\n",
    "        df = pd.read_csv(filename)\n",
    "    else:\n",
    "        df = pd.read_csv(filename, sep=';')\n",
    "    return df"
   ]
  },
  {
   "cell_type": "code",
   "execution_count": 4,
   "metadata": {},
   "outputs": [],
   "source": [
    "bagsdf = get_data('testdata.csv', True)\n"
   ]
  },
  {
   "cell_type": "code",
   "execution_count": 5,
   "metadata": {},
   "outputs": [],
   "source": [
    "bagsdf.drop(\"Unnamed: 0\", axis=1, inplace=True)"
   ]
  },
  {
   "cell_type": "code",
   "execution_count": 6,
   "metadata": {},
   "outputs": [
    {
     "data": {
      "text/plain": [
       "Index(['MinLoggedUTC', 'MaxExternalBookingID', 'PaxType', 'ChannelID',\n",
       "       'RoleName', 'TripOriginLocationCode', 'TripDestinationLocationCode',\n",
       "       'NumberOfPassengers', 'FareClass', 'TripType', 'TreatmentRank',\n",
       "       'SegmentOriginLocationCode', 'SegmentDestinationLocationCode',\n",
       "       'TripReturnTravelDate', 'TripFirstTravelDate', 'SegmentFirstTravelDate',\n",
       "       'TotalFare', 'JourneySalesDate', 'AgeOfPassengersArray',\n",
       "       'FirstPaxProgramLevel', 'TreatmentProductSequence', 'TreatmentRanked',\n",
       "       'TreatmentIDBook', 'QuantityBooked', 'FinalStage', 'ProductID',\n",
       "       'ProductName', 'Amount', 'OriginalPrice', 'Role_Type', 'Price_Type'],\n",
       "      dtype='object')"
      ]
     },
     "execution_count": 6,
     "metadata": {},
     "output_type": "execute_result"
    }
   ],
   "source": [
    "bagsdf.columns"
   ]
  },
  {
   "cell_type": "markdown",
   "metadata": {},
   "source": [
    "# Data Prep"
   ]
  },
  {
   "cell_type": "code",
   "execution_count": 7,
   "metadata": {},
   "outputs": [
    {
     "data": {
      "text/plain": [
       "(10000, 31)"
      ]
     },
     "execution_count": 7,
     "metadata": {},
     "output_type": "execute_result"
    }
   ],
   "source": [
    "bagsdf.shape"
   ]
  },
  {
   "cell_type": "code",
   "execution_count": 8,
   "metadata": {},
   "outputs": [
    {
     "data": {
      "text/plain": [
       "MinLoggedUTC                         0\n",
       "MaxExternalBookingID                 0\n",
       "PaxType                              0\n",
       "ChannelID                            0\n",
       "RoleName                             0\n",
       "TripOriginLocationCode               0\n",
       "TripDestinationLocationCode          0\n",
       "NumberOfPassengers                   0\n",
       "FareClass                            0\n",
       "TripType                             0\n",
       "TreatmentRank                        0\n",
       "SegmentOriginLocationCode            0\n",
       "SegmentDestinationLocationCode       0\n",
       "TripReturnTravelDate              3898\n",
       "TripFirstTravelDate                  0\n",
       "SegmentFirstTravelDate               0\n",
       "TotalFare                            0\n",
       "JourneySalesDate                   193\n",
       "AgeOfPassengersArray              7239\n",
       "FirstPaxProgramLevel              7971\n",
       "TreatmentProductSequence             0\n",
       "TreatmentRanked                      0\n",
       "TreatmentIDBook                      0\n",
       "QuantityBooked                       0\n",
       "FinalStage                           0\n",
       "ProductID                            0\n",
       "ProductName                          0\n",
       "Amount                               0\n",
       "OriginalPrice                        0\n",
       "Role_Type                            0\n",
       "Price_Type                           0\n",
       "dtype: int64"
      ]
     },
     "execution_count": 8,
     "metadata": {},
     "output_type": "execute_result"
    }
   ],
   "source": [
    "bagsdf.isnull().sum()"
   ]
  },
  {
   "cell_type": "code",
   "execution_count": 9,
   "metadata": {},
   "outputs": [],
   "source": [
    "cols=list(bagsdf.columns)\n",
    "#cols"
   ]
  },
  {
   "cell_type": "markdown",
   "metadata": {},
   "source": [
    "with null values:\n",
    "- TripReturnTravelDate\n",
    "- JourneySalesDate\n",
    "- AgeofPssengersArray\n",
    "- FirstPaxProgramLevel"
   ]
  },
  {
   "cell_type": "markdown",
   "metadata": {},
   "source": [
    "- Drop the columns JourneySalesDate, AgeofPssengersArray & FirstPaxProgramLevel because of large amounts of null values(more than half of the rows are nul) and they arent useful\n",
    "- However the date the prodcut was sold and the trip return date may be helpful\n",
    "- From comparing MinLoggedUTC to JourneySalesDate they seem to be the same data"
   ]
  },
  {
   "cell_type": "code",
   "execution_count": 10,
   "metadata": {},
   "outputs": [],
   "source": [
    "bagsdf.drop([\"AgeOfPassengersArray\",\"FirstPaxProgramLevel\", 'MinLoggedUTC'], axis=1, inplace=True)"
   ]
  },
  {
   "cell_type": "code",
   "execution_count": 11,
   "metadata": {},
   "outputs": [],
   "source": [
    "#U for Unknown\n",
    "#bagsdf.fillna('U', inplace=True)"
   ]
  },
  {
   "cell_type": "code",
   "execution_count": 12,
   "metadata": {},
   "outputs": [],
   "source": [
    "def changeDate(col, delim):\n",
    "    y=col.strip(\"Date\")\n",
    "    if(delim == '-'):\n",
    "        bagsdf[y+\"Year\"]=[int(x.split(delim)[0]) if isinstance(x,str) else 0 for x in bagsdf[col] ]\n",
    "        bagsdf[y+\"Month\"]=[int(x.split(delim)[1]) if isinstance(x,str) else 0 for x in bagsdf[col] ]\n",
    "        bagsdf[y+\"Day\"]=[int(x.split(delim)[2][0:2]) if isinstance(x,str) else 0 for x in bagsdf[col] ]\n",
    "    else:\n",
    "        bagsdf[y+\"Year\"]=[int(x.split(delim)[2][0:4]) if isinstance(x,str) else 0 for x in bagsdf[col] ]\n",
    "        bagsdf[y+\"Month\"]=[int(x.split(delim)[0]) if isinstance(x,str) else 0 for x in bagsdf[col] ]\n",
    "        bagsdf[y+\"Day\"]=[int(x.split(delim)[1]) if isinstance(x,str) else 0 for x in bagsdf[col] ]\n",
    "    bagsdf.pop(col)"
   ]
  },
  {
   "cell_type": "code",
   "execution_count": 13,
   "metadata": {},
   "outputs": [
    {
     "data": {
      "text/plain": [
       "Index(['MaxExternalBookingID', 'PaxType', 'ChannelID', 'RoleName',\n",
       "       'TripOriginLocationCode', 'TripDestinationLocationCode',\n",
       "       'NumberOfPassengers', 'FareClass', 'TripType', 'TreatmentRank',\n",
       "       'SegmentOriginLocationCode', 'SegmentDestinationLocationCode',\n",
       "       'TripReturnTravelDate', 'TripFirstTravelDate', 'SegmentFirstTravelDate',\n",
       "       'TotalFare', 'JourneySalesDate', 'TreatmentProductSequence',\n",
       "       'TreatmentRanked', 'TreatmentIDBook', 'QuantityBooked', 'FinalStage',\n",
       "       'ProductID', 'ProductName', 'Amount', 'OriginalPrice', 'Role_Type',\n",
       "       'Price_Type'],\n",
       "      dtype='object')"
      ]
     },
     "execution_count": 13,
     "metadata": {},
     "output_type": "execute_result"
    }
   ],
   "source": [
    "bagsdf.columns"
   ]
  },
  {
   "cell_type": "code",
   "execution_count": 14,
   "metadata": {},
   "outputs": [],
   "source": [
    "changeDate(\"JourneySalesDate\", '-')"
   ]
  },
  {
   "cell_type": "code",
   "execution_count": 15,
   "metadata": {},
   "outputs": [],
   "source": [
    "changeDate('TripFirstTravelDate', '/')"
   ]
  },
  {
   "cell_type": "code",
   "execution_count": 16,
   "metadata": {},
   "outputs": [],
   "source": [
    "changeDate('SegmentFirstTravelDate', '/')"
   ]
  },
  {
   "cell_type": "code",
   "execution_count": 17,
   "metadata": {},
   "outputs": [],
   "source": [
    "changeDate('TripReturnTravelDate', '/')"
   ]
  },
  {
   "cell_type": "code",
   "execution_count": 18,
   "metadata": {},
   "outputs": [
    {
     "data": {
      "text/plain": [
       "Index(['MaxExternalBookingID', 'PaxType', 'ChannelID', 'RoleName',\n",
       "       'TripOriginLocationCode', 'TripDestinationLocationCode',\n",
       "       'NumberOfPassengers', 'FareClass', 'TripType', 'TreatmentRank',\n",
       "       'SegmentOriginLocationCode', 'SegmentDestinationLocationCode',\n",
       "       'TotalFare', 'TreatmentProductSequence', 'TreatmentRanked',\n",
       "       'TreatmentIDBook', 'QuantityBooked', 'FinalStage', 'ProductID',\n",
       "       'ProductName', 'Amount', 'OriginalPrice', 'Role_Type', 'Price_Type',\n",
       "       'JourneySalesYear', 'JourneySalesMonth', 'JourneySalesDay',\n",
       "       'TripFirstTravelYear', 'TripFirstTravelMonth', 'TripFirstTravelDay',\n",
       "       'SegmentFirstTravelYear', 'SegmentFirstTravelMonth',\n",
       "       'SegmentFirstTravelDay', 'TripReturnTravelYear',\n",
       "       'TripReturnTravelMonth', 'TripReturnTravelDay'],\n",
       "      dtype='object')"
      ]
     },
     "execution_count": 18,
     "metadata": {},
     "output_type": "execute_result"
    }
   ],
   "source": [
    "bagsdf.columns"
   ]
  },
  {
   "cell_type": "code",
   "execution_count": 19,
   "metadata": {},
   "outputs": [
    {
     "data": {
      "text/plain": [
       "0            8700\n",
       "611263758       1\n",
       "611605609       1\n",
       "612138109       1\n",
       "611498675       1\n",
       "612496516       1\n",
       "612899985       1\n",
       "611947688       1\n",
       "612097193       1\n",
       "611140786       1\n",
       "612787382       1\n",
       "612953279       1\n",
       "612960277       1\n",
       "612834497       1\n",
       "611327177       1\n",
       "611335373       1\n",
       "611661036       1\n",
       "611974381       1\n",
       "611704065       1\n",
       "611413079       1\n",
       "612035663       1\n",
       "611087436       1\n",
       "612307944       1\n",
       "611832720       1\n",
       "611527583       1\n",
       "611392417       1\n",
       "611926970       1\n",
       "611599306       1\n",
       "612785121       1\n",
       "611763170       1\n",
       "             ... \n",
       "611981982       1\n",
       "611404372       1\n",
       "611889827       1\n",
       "611498674       1\n",
       "613640888       1\n",
       "611879612       1\n",
       "612329947       1\n",
       "611670734       1\n",
       "611404508       1\n",
       "611686998       1\n",
       "611250755       1\n",
       "611256700       1\n",
       "611520991       1\n",
       "611942805       1\n",
       "612346264       1\n",
       "612553119       1\n",
       "612442537       1\n",
       "611348915       1\n",
       "611910077       1\n",
       "611725779       1\n",
       "612618735       1\n",
       "612688441       1\n",
       "612538878       1\n",
       "611850774       1\n",
       "612831767       1\n",
       "611756568       1\n",
       "611672617       1\n",
       "611676715       1\n",
       "611959341       1\n",
       "611749958       1\n",
       "Name: TreatmentIDBook, Length: 1301, dtype: int64"
      ]
     },
     "execution_count": 19,
     "metadata": {},
     "output_type": "execute_result"
    }
   ],
   "source": [
    "bagsdf.TreatmentIDBook.value_counts() #all values are unique => not useful"
   ]
  },
  {
   "cell_type": "code",
   "execution_count": 20,
   "metadata": {},
   "outputs": [],
   "source": [
    "bagsdf.drop(\"TreatmentIDBook\", axis=1, inplace=True)"
   ]
  },
  {
   "cell_type": "code",
   "execution_count": 21,
   "metadata": {},
   "outputs": [
    {
     "data": {
      "text/html": [
       "<div>\n",
       "<style scoped>\n",
       "    .dataframe tbody tr th:only-of-type {\n",
       "        vertical-align: middle;\n",
       "    }\n",
       "\n",
       "    .dataframe tbody tr th {\n",
       "        vertical-align: top;\n",
       "    }\n",
       "\n",
       "    .dataframe thead th {\n",
       "        text-align: right;\n",
       "    }\n",
       "</style>\n",
       "<table border=\"1\" class=\"dataframe\">\n",
       "  <thead>\n",
       "    <tr style=\"text-align: right;\">\n",
       "      <th></th>\n",
       "      <th>ProductName</th>\n",
       "      <th>ProductID</th>\n",
       "    </tr>\n",
       "  </thead>\n",
       "  <tbody>\n",
       "    <tr>\n",
       "      <th>0</th>\n",
       "      <td>BAG1</td>\n",
       "      <td>78</td>\n",
       "    </tr>\n",
       "    <tr>\n",
       "      <th>1</th>\n",
       "      <td>COB1</td>\n",
       "      <td>84</td>\n",
       "    </tr>\n",
       "    <tr>\n",
       "      <th>2</th>\n",
       "      <td>BAG1</td>\n",
       "      <td>78</td>\n",
       "    </tr>\n",
       "    <tr>\n",
       "      <th>3</th>\n",
       "      <td>COB1</td>\n",
       "      <td>84</td>\n",
       "    </tr>\n",
       "    <tr>\n",
       "      <th>4</th>\n",
       "      <td>BAG1</td>\n",
       "      <td>78</td>\n",
       "    </tr>\n",
       "  </tbody>\n",
       "</table>\n",
       "</div>"
      ],
      "text/plain": [
       "  ProductName  ProductID\n",
       "0        BAG1         78\n",
       "1        COB1         84\n",
       "2        BAG1         78\n",
       "3        COB1         84\n",
       "4        BAG1         78"
      ]
     },
     "execution_count": 21,
     "metadata": {},
     "output_type": "execute_result"
    }
   ],
   "source": [
    "#Cols ProductName and Product ID give the same info\n",
    "bagsdf[['ProductName', 'ProductID']].head()"
   ]
  },
  {
   "cell_type": "code",
   "execution_count": 22,
   "metadata": {},
   "outputs": [],
   "source": [
    "bagsdf.drop(\"ProductName\", axis=1, inplace=True)"
   ]
  },
  {
   "cell_type": "code",
   "execution_count": 23,
   "metadata": {},
   "outputs": [
    {
     "data": {
      "text/plain": [
       "1     9371\n",
       "0      193\n",
       "10      44\n",
       "14      40\n",
       "21      32\n",
       "18      28\n",
       "11      28\n",
       "20      26\n",
       "26      20\n",
       "27      20\n",
       "13      20\n",
       "16      16\n",
       "6       16\n",
       "17      14\n",
       "15      14\n",
       "5       12\n",
       "8       12\n",
       "24      12\n",
       "7       12\n",
       "23      12\n",
       "28      12\n",
       "25       8\n",
       "9        8\n",
       "19       8\n",
       "12       8\n",
       "30       8\n",
       "29       4\n",
       "22       2\n",
       "Name: JourneySalesDay, dtype: int64"
      ]
     },
     "execution_count": 23,
     "metadata": {},
     "output_type": "execute_result"
    }
   ],
   "source": [
    "bagsdf.JourneySalesDay.value_counts()"
   ]
  },
  {
   "cell_type": "code",
   "execution_count": 24,
   "metadata": {},
   "outputs": [
    {
     "data": {
      "text/plain": [
       "0    78\n",
       "1    84\n",
       "2    78\n",
       "3    84\n",
       "4    78\n",
       "Name: ProductID, dtype: int64"
      ]
     },
     "execution_count": 24,
     "metadata": {},
     "output_type": "execute_result"
    }
   ],
   "source": [
    "bagsdf.ProductID.head()"
   ]
  },
  {
   "cell_type": "code",
   "execution_count": 25,
   "metadata": {},
   "outputs": [],
   "source": [
    "df=pd.get_dummies(bagsdf, drop_first=False)"
   ]
  },
  {
   "cell_type": "markdown",
   "metadata": {},
   "source": [
    "         "
   ]
  },
  {
   "cell_type": "code",
   "execution_count": 26,
   "metadata": {},
   "outputs": [
    {
     "data": {
      "text/plain": [
       "0    8700\n",
       "1    1044\n",
       "2     198\n",
       "3      30\n",
       "4      18\n",
       "7       4\n",
       "6       4\n",
       "5       2\n",
       "Name: QuantityBooked, dtype: int64"
      ]
     },
     "execution_count": 26,
     "metadata": {},
     "output_type": "execute_result"
    }
   ],
   "source": [
    "df['QuantityBooked'].value_counts()"
   ]
  },
  {
   "cell_type": "code",
   "execution_count": 27,
   "metadata": {},
   "outputs": [],
   "source": [
    "df.loc[df['QuantityBooked']>=1,'Booked']=1"
   ]
  },
  {
   "cell_type": "code",
   "execution_count": 28,
   "metadata": {},
   "outputs": [],
   "source": [
    "df[\"Booked\"] = [1 if i>=1 else 0 for i in df['QuantityBooked']>=1]"
   ]
  },
  {
   "cell_type": "markdown",
   "metadata": {},
   "source": [
    "# Visualisation"
   ]
  },
  {
   "cell_type": "code",
   "execution_count": 29,
   "metadata": {},
   "outputs": [],
   "source": [
    "import matplotlib.pyplot as plt"
   ]
  },
  {
   "cell_type": "code",
   "execution_count": 30,
   "metadata": {},
   "outputs": [
    {
     "data": {
      "image/png": "[encoded data removed]",
      "text/plain": [
       "<Figure size 504x504 with 1 Axes>"
      ]
     },
     "metadata": {},
     "output_type": "display_data"
    }
   ],
   "source": [
    "fig,ax=plt.subplots(figsize=(7,7))\n",
    "s2=dict(df.Booked.value_counts())\n",
    "vals=list(s2.values())\n",
    "labels=['No bags', 'At least one bag']\n",
    "explode=(0,0.1)\n",
    "#fig1, ax1 = plt.subplots()\n",
    "ax.pie(vals, explode=explode, labels=labels, autopct='%1.1f%%',\n",
    "        shadow=True, startangle=90)\n",
    "plt.title('Likelihood of adding a bag')\n",
    "ax.axis('equal')  # Equal aspect ratio ensures that pie is drawn as a circle.\n",
    "\n",
    "plt.show()"
   ]
  },
  {
   "cell_type": "code",
   "execution_count": 31,
   "metadata": {},
   "outputs": [],
   "source": [
    "bagsbyMonth= bagsdf.groupby(['TripFirstTravelMonth', 'QuantityBooked']).size().reset_index(name='counts')"
   ]
  },
  {
   "cell_type": "code",
   "execution_count": 32,
   "metadata": {},
   "outputs": [],
   "source": [
    "month={}\n",
    "\n",
    "for i in range(1,13):\n",
    "    sum=0\n",
    "    for ind in bagsbyMonth.index:\n",
    "        if (bagsbyMonth.TripFirstTravelMonth[ind]==i):\n",
    "            sum = sum + bagsbyMonth.QuantityBooked[ind]*bagsbyMonth.counts[ind]\n",
    "        month[i]=sum\n",
    "    "
   ]
  },
  {
   "cell_type": "code",
   "execution_count": 33,
   "metadata": {},
   "outputs": [
    {
     "name": "stderr",
     "output_type": "stream",
     "text": [
      "C:\\Users\\oyino\\Anaconda3\\lib\\site-packages\\ipykernel_launcher.py:12: UserWarning: Matplotlib is currently using module://ipykernel.pylab.backend_inline, which is a non-GUI backend, so cannot show the figure.\n",
      "  if sys.path[0] == '':\n"
     ]
    },
    {
     "data": {
      "image/png": "[encoded data removed]",
      "text/plain": [
       "<Figure size 720x720 with 1 Axes>"
      ]
     },
     "metadata": {
      "needs_background": "light"
     },
     "output_type": "display_data"
    }
   ],
   "source": [
    "fig, ax = plt.subplots(figsize=(10,10))\n",
    "ax.bar(month.keys(), month.values())\n",
    "time=['Jan', 'Feb', 'Mar', 'Apr', 'May', 'Jun', 'Jul', 'Aug', 'Sep', 'Oct', 'Nov', 'Dec']\n",
    "ax.set_xticklabels(time)\n",
    "time=range(1,13,1)\n",
    "ax.set_xticks(time)\n",
    "ax.tick_params(labelsize=15)\n",
    "ax.set_xlabel(\"Month\", fontsize=25)\n",
    "ax.set_ylabel(\"Count\", fontsize=25)\n",
    "ax.set_title(\"Count of Bags for each Month\", fontsize=40)\n",
    "\n",
    "fig.show()\n",
    "#to do\n",
    "#color-code bars by season\n",
    "#subscripts #no of bags"
   ]
  },
  {
   "cell_type": "markdown",
   "metadata": {},
   "source": [
    "# Prediction"
   ]
  },
  {
   "cell_type": "code",
   "execution_count": 34,
   "metadata": {},
   "outputs": [],
   "source": [
    "y=df.pop('Booked').values\n",
    "df.pop('QuantityBooked')\n",
    "X=df.values\n"
   ]
  },
  {
   "cell_type": "code",
   "execution_count": 35,
   "metadata": {},
   "outputs": [
    {
     "data": {
      "text/plain": [
       "(10000,)"
      ]
     },
     "execution_count": 35,
     "metadata": {},
     "output_type": "execute_result"
    }
   ],
   "source": [
    "X.shape\n",
    "y.shape"
   ]
  },
  {
   "cell_type": "code",
   "execution_count": 36,
   "metadata": {},
   "outputs": [],
   "source": [
    "from collections import Counter"
   ]
  },
  {
   "cell_type": "code",
   "execution_count": 37,
   "metadata": {},
   "outputs": [
    {
     "name": "stdout",
     "output_type": "stream",
     "text": [
      "Minority class : 0.13\n"
     ]
    }
   ],
   "source": [
    "print(\"Minority class : %0.2f\" % (Counter(y)[1]/len(y)))\n",
    "#Could be bias towards majority class => no bags booked"
   ]
  },
  {
   "cell_type": "code",
   "execution_count": 38,
   "metadata": {},
   "outputs": [],
   "source": [
    "from sklearn.model_selection import train_test_split\n",
    "from sklearn.decomposition import PCA\n",
    "from sklearn.linear_model import LogisticRegression\n",
    "from sklearn.metrics import classification_report, accuracy_score, confusion_matrix, roc_auc_score\n",
    "from sklearn.model_selection import cross_val_score, KFold\n",
    "from sklearn.ensemble import GradientBoostingClassifier\n",
    "from sklearn.tree import DecisionTreeClassifier\n"
   ]
  },
  {
   "cell_type": "code",
   "execution_count": 39,
   "metadata": {},
   "outputs": [],
   "source": [
    "X_train, X_test, y_train, y_test = train_test_split(X, y, test_size = 0.2, random_state = 0)"
   ]
  },
  {
   "cell_type": "code",
   "execution_count": 40,
   "metadata": {},
   "outputs": [
    {
     "name": "stdout",
     "output_type": "stream",
     "text": [
      "Minority in training set : 1060\n",
      "Minority in test set : 240\n"
     ]
    }
   ],
   "source": [
    "print(\"Minority in training set : %d\" % (Counter(y_train)[1]))\n",
    "print(\"Minority in test set : %d\" % (Counter(y_test)[1]))\n"
   ]
  },
  {
   "cell_type": "code",
   "execution_count": 41,
   "metadata": {},
   "outputs": [],
   "source": [
    "models= {}\n",
    "models['dtree'] =  DecisionTreeClassifier(criterion='entropy')\n",
    "models['logistic'] = LogisticRegression(max_iter=10000, solver = 'sag', random_state=0)\n",
    "models['gbc']=GradientBoostingClassifier()\n"
   ]
  },
  {
   "cell_type": "code",
   "execution_count": 42,
   "metadata": {},
   "outputs": [],
   "source": [
    "#Binary classifications w/ logistic regression predcit if bought or not\n",
    "#clf = LogisticRegression(random_state=0, max_iter=10000)\n"
   ]
  },
  {
   "cell_type": "code",
   "execution_count": 43,
   "metadata": {},
   "outputs": [],
   "source": [
    "from functools import reduce"
   ]
  },
  {
   "cell_type": "code",
   "execution_count": null,
   "metadata": {},
   "outputs": [
    {
     "name": "stdout",
     "output_type": "stream",
     "text": [
      "DecisionTreeClassifier Avg. Accuracy: 1.00\n"
     ]
    }
   ],
   "source": [
    "reps=100\n",
    "for model in models:\n",
    "    xv=[]\n",
    "    for i in range(reps):\n",
    "        kf = KFold(n_splits=10, shuffle = True) \n",
    "        scores = cross_val_score(models[model], X_train, y_train, cv=kf)\n",
    "        xv.append(scores.mean())\n",
    "    avg_acc=reduce(lambda a, b: a + b, xv) / len(xv)\n",
    "    print(\"{:22} Avg. Accuracy: {:.2f}\".format(type(models[model]).__name__,avg_acc)) \n",
    "            "
   ]
  },
  {
   "cell_type": "markdown",
   "metadata": {},
   "source": [
    "- Pick the model with the best accuracy score then do feature selection on that model\n",
    "- Let's go with logistic regression"
   ]
  },
  {
   "cell_type": "markdown",
   "metadata": {},
   "source": [
    "# Feature Selection w/ RFE"
   ]
  },
  {
   "cell_type": "code",
   "execution_count": null,
   "metadata": {},
   "outputs": [],
   "source": [
    "#Ridge/LASSO/Elastic Net"
   ]
  },
  {
   "cell_type": "code",
   "execution_count": null,
   "metadata": {},
   "outputs": [],
   "source": [
    "from sklearn.feature_selection import mutual_info_classif, SelectKBest\n",
    "from sklearn.feature_selection import RFE"
   ]
  },
  {
   "cell_type": "code",
   "execution_count": null,
   "metadata": {},
   "outputs": [],
   "source": [
    "num_feats=100"
   ]
  },
  {
   "cell_type": "code",
   "execution_count": null,
   "metadata": {},
   "outputs": [],
   "source": [
    "rfe_selector = RFE(estimator=LogisticRegression(random_state=0, max_iter=10000), n_features_to_select=num_feats, step=10, verbose=5)\n",
    "rfe_selector.fit(X_train, y_train)\n",
    "rfe_support = rfe_selector.get_support()\n",
    "rfe_feature = df.loc[:,rfe_support].columns.tolist()\n",
    "#print(str(len(rfe_feature)), 'selected features')\n",
    "print(\"Selected Features: %s\"% rfe_support_)"
   ]
  },
  {
   "cell_type": "code",
   "execution_count": null,
   "metadata": {},
   "outputs": [],
   "source": [
    "print(\"Selected Features: %s\"% rfe_selector.support_)"
   ]
  },
  {
   "cell_type": "code",
   "execution_count": null,
   "metadata": {},
   "outputs": [],
   "source": [
    "print(\"Selected Features: %s\"% rfe_feature)"
   ]
  },
  {
   "cell_type": "code",
   "execution_count": null,
   "metadata": {},
   "outputs": [],
   "source": [
    "X_train.shape"
   ]
  },
  {
   "cell_type": "code",
   "execution_count": null,
   "metadata": {},
   "outputs": [],
   "source": [
    "X_aft=X_train[:,rfe_selector.support_]"
   ]
  },
  {
   "cell_type": "code",
   "execution_count": null,
   "metadata": {},
   "outputs": [],
   "source": [
    "y_train"
   ]
  },
  {
   "cell_type": "code",
   "execution_count": null,
   "metadata": {},
   "outputs": [],
   "source": [
    "X_aft.shape"
   ]
  },
  {
   "cell_type": "code",
   "execution_count": null,
   "metadata": {},
   "outputs": [],
   "source": [
    "clf=models['logistic']"
   ]
  },
  {
   "cell_type": "code",
   "execution_count": null,
   "metadata": {},
   "outputs": [],
   "source": [
    "xv=[]\n",
    "for i in range(reps):\n",
    "    kf = KFold(n_splits=10, shuffle = True) \n",
    "    scores = cross_val_score(clf, X_aft, y_train, cv=kf)\n",
    "    xv.append(scores.mean())\n",
    "avg_acc=reduce(lambda a, b: a + b, xv) / len(xv)\n",
    "print(\"{:22} Avg. Accuracy: {:.2f}\".format(type(models['logistic']).__name__,avg_acc)) \n",
    "              "
   ]
  },
  {
   "cell_type": "code",
   "execution_count": null,
   "metadata": {},
   "outputs": [],
   "source": [
    "type(X_train)"
   ]
  },
  {
   "cell_type": "code",
   "execution_count": null,
   "metadata": {},
   "outputs": [],
   "source": [
    "len(rfe_feature)"
   ]
  },
  {
   "cell_type": "code",
   "execution_count": null,
   "metadata": {},
   "outputs": [],
   "source": [
    "#list(df.columns)"
   ]
  },
  {
   "cell_type": "code",
   "execution_count": null,
   "metadata": {},
   "outputs": [],
   "source": [
    "#X_train.loc"
   ]
  }
 ],
 "metadata": {
  "kernelspec": {
   "display_name": "Python 3",
   "language": "python",
   "name": "python3"
  },
  "language_info": {
   "codemirror_mode": {
    "name": "ipython",
    "version": 3
   },
   "file_extension": ".py",
   "mimetype": "text/x-python",
   "name": "python",
   "nbconvert_exporter": "python",
   "pygments_lexer": "ipython3",
   "version": "3.7.3"
  }
 },
 "nbformat": 4,
 "nbformat_minor": 2
}
