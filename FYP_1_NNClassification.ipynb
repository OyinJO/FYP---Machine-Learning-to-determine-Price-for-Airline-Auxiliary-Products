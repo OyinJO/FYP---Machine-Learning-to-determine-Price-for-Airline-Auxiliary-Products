{
 "cells": [
  {
   "cell_type": "code",
   "execution_count": 1,
   "metadata": {},
   "outputs": [],
   "source": [
    "import importlib\n",
    "import matplotlib.pyplot as mp\n",
    "import numpy as np\n",
    "\n",
    "import torch\n",
    "import torch.nn as nn\n",
    "SEED=42\n",
    "torch.manual_seed(SEED)\n",
    "\n",
    "\n",
    "from sklearn.tree import export_graphviz\n",
    "import graphviz\n",
    "%matplotlib inline\n",
    "import torch.optim as optim\n",
    "import torch.nn.functional as F"
   ]
  },
  {
   "cell_type": "code",
   "execution_count": 2,
   "metadata": {},
   "outputs": [],
   "source": [
    "import pandas as pd"
   ]
  },
  {
   "cell_type": "code",
   "execution_count": 3,
   "metadata": {},
   "outputs": [],
   "source": [
    "def get_data(filename, comma):\n",
    "    \n",
    "    if comma:\n",
    "        df = pd.read_csv(filename)\n",
    "    else:\n",
    "        df = pd.read_csv(filename, sep=';')\n",
    "    return df"
   ]
  },
  {
   "cell_type": "code",
   "execution_count": 4,
   "metadata": {},
   "outputs": [],
   "source": [
    "df = get_data('cleanedData.csv', True)\n"
   ]
  },
  {
   "cell_type": "code",
   "execution_count": 5,
   "metadata": {},
   "outputs": [],
   "source": [
    "#df.drop(\"Unnamed: 0\", axis=1, inplace=True)"
   ]
  },
  {
   "cell_type": "code",
   "execution_count": 6,
   "metadata": {},
   "outputs": [
    {
     "data": {
      "text/plain": [
       "Index(['MaxExternalBookingID', 'ChannelID', 'NumberOfPassengers', 'TripType',\n",
       "       'TreatmentRank', 'TotalFare', 'TreatmentProductSequence',\n",
       "       'TreatmentRanked', 'ProductID', 'Amount',\n",
       "       ...\n",
       "       'SegmentDestinationLocationCode_XNA',\n",
       "       'SegmentDestinationLocationCode_YYC', 'Role_Type_CHECKIN',\n",
       "       'Role_Type_INITIAL', 'Role_Type_MANAGE', 'Role_Type_RESERVATION',\n",
       "       'Price_Type_CONTROL', 'Price_Type_DISCOUNT', 'Price_Type_PREMIUM',\n",
       "       'Booked'],\n",
       "      dtype='object', length=494)"
      ]
     },
     "execution_count": 6,
     "metadata": {},
     "output_type": "execute_result"
    }
   ],
   "source": [
    "df.columns"
   ]
  },
  {
   "cell_type": "markdown",
   "metadata": {},
   "source": [
    "# Prediction"
   ]
  },
  {
   "cell_type": "code",
   "execution_count": 7,
   "metadata": {},
   "outputs": [],
   "source": [
    "train=get_data('trainSet.csv', True)\n",
    "test=get_data('testSet.csv', True)\n"
   ]
  },
  {
   "cell_type": "code",
   "execution_count": 8,
   "metadata": {},
   "outputs": [],
   "source": [
    "y_train=train.pop('Booked').values\n",
    "X_train=train.values\n",
    "\n",
    "y_test=test.pop('Booked').values\n",
    "X_test=test.values\n",
    "\n"
   ]
  },
  {
   "cell_type": "code",
   "execution_count": 9,
   "metadata": {},
   "outputs": [],
   "source": [
    "from collections import Counter"
   ]
  },
  {
   "cell_type": "code",
   "execution_count": 10,
   "metadata": {},
   "outputs": [
    {
     "data": {
      "text/plain": [
       "(7845, 493)"
      ]
     },
     "execution_count": 10,
     "metadata": {},
     "output_type": "execute_result"
    }
   ],
   "source": [
    "X_train.shape"
   ]
  },
  {
   "cell_type": "code",
   "execution_count": 11,
   "metadata": {},
   "outputs": [
    {
     "data": {
      "text/plain": [
       "(1962, 493)"
      ]
     },
     "execution_count": 11,
     "metadata": {},
     "output_type": "execute_result"
    }
   ],
   "source": [
    "X_test.shape"
   ]
  },
  {
   "cell_type": "code",
   "execution_count": 12,
   "metadata": {},
   "outputs": [],
   "source": [
    "#take out all prices but OriginalPrice index from xtest\n",
    "priceFeat=['TotalFare','Amount']\n",
    "removeInd=[df.columns.get_loc(c) for c in priceFeat]\n",
    "X_train=np.delete(X_train, removeInd, 1)\n",
    "X_test=np.delete(X_test, removeInd, 1)\n",
    "df.drop(priceFeat, inplace=True, axis=1)"
   ]
  },
  {
   "cell_type": "code",
   "execution_count": 13,
   "metadata": {},
   "outputs": [],
   "source": [
    "dfOriginalPriceIndex=df.columns.get_loc(\"OriginalPrice\")\n"
   ]
  },
  {
   "cell_type": "code",
   "execution_count": 14,
   "metadata": {},
   "outputs": [],
   "source": [
    "#scale the values\n",
    "from sklearn.preprocessing import MinMaxScaler\n",
    "scaler=MinMaxScaler()\n",
    "scaler.fit(X_train)\n",
    "X_train=scaler.transform(X_train)\n",
    "X_test=scaler.transform(X_test)"
   ]
  },
  {
   "cell_type": "code",
   "execution_count": 15,
   "metadata": {},
   "outputs": [],
   "source": [
    "#get the pricing range\n",
    "maxPrice=pd.DataFrame(data=scaler.inverse_transform(X_train))[dfOriginalPriceIndex].max()\n",
    "minPrice=pd.DataFrame(data=scaler.inverse_transform(X_train))[dfOriginalPriceIndex].min()\n",
    "    "
   ]
  },
  {
   "cell_type": "code",
   "execution_count": 16,
   "metadata": {},
   "outputs": [],
   "source": [
    "#get all the prices customers were offered in the test set\n",
    "all_prices=pd.DataFrame(data=scaler.inverse_transform(X_test))[dfOriginalPriceIndex]"
   ]
  },
  {
   "cell_type": "code",
   "execution_count": 17,
   "metadata": {},
   "outputs": [],
   "source": [
    "from sklearn.model_selection import train_test_split\n",
    "from sklearn.metrics import classification_report, accuracy_score, confusion_matrix, roc_auc_score\n",
    "from sklearn.model_selection import cross_val_score, KFold\n",
    "from sklearn.tree import DecisionTreeClassifier\n"
   ]
  },
  {
   "cell_type": "code",
   "execution_count": 18,
   "metadata": {},
   "outputs": [],
   "source": [
    "#pip install pygame"
   ]
  },
  {
   "cell_type": "code",
   "execution_count": 19,
   "metadata": {},
   "outputs": [],
   "source": [
    "from torch.utils.data import TensorDataset, DataLoader"
   ]
  },
  {
   "cell_type": "markdown",
   "metadata": {},
   "source": [
    "## SMOTE => Bias"
   ]
  },
  {
   "cell_type": "code",
   "execution_count": 20,
   "metadata": {},
   "outputs": [],
   "source": [
    "from imblearn.over_sampling import SMOTE\n",
    "from imblearn.pipeline import Pipeline\n",
    "from imblearn.under_sampling import RandomUnderSampler"
   ]
  },
  {
   "cell_type": "code",
   "execution_count": null,
   "metadata": {},
   "outputs": [],
   "source": []
  },
  {
   "cell_type": "code",
   "execution_count": 21,
   "metadata": {},
   "outputs": [],
   "source": [
    "sm = SMOTE(random_state=42, sampling_strategy=1)\n",
    "X_train_res, y_train_res = sm.fit_sample(X_train, y_train)"
   ]
  },
  {
   "cell_type": "code",
   "execution_count": 22,
   "metadata": {},
   "outputs": [
    {
     "data": {
      "text/plain": [
       "1005"
      ]
     },
     "execution_count": 22,
     "metadata": {},
     "output_type": "execute_result"
    }
   ],
   "source": [
    "y_train[y_train==1].shape[0]\n",
    "#y_train[y_train==0].shape[0]"
   ]
  },
  {
   "cell_type": "code",
   "execution_count": 23,
   "metadata": {},
   "outputs": [
    {
     "data": {
      "text/plain": [
       "6840"
      ]
     },
     "execution_count": 23,
     "metadata": {},
     "output_type": "execute_result"
    }
   ],
   "source": [
    "y_train_res[y_train_res==1].shape[0]\n",
    "y_train_res[y_train_res==0].shape[0]"
   ]
  },
  {
   "cell_type": "code",
   "execution_count": 24,
   "metadata": {},
   "outputs": [],
   "source": [
    "#split train set into training and validation set\n",
    "X_train_res, X_valid, y_train_res, y_valid = train_test_split(X_train_res, y_train_res, test_size=0.25, random_state=1, stratify=y_train_res) "
   ]
  },
  {
   "cell_type": "code",
   "execution_count": 25,
   "metadata": {},
   "outputs": [],
   "source": [
    "X_train_new = torch.from_numpy(X_train_res).float()\n",
    "y_train_new = torch.squeeze(torch.from_numpy(y_train_res).float())\n",
    "X_valid_new = torch.from_numpy(X_valid).float()\n",
    "y_valid_new = torch.squeeze(torch.from_numpy(y_valid).float())\n",
    "X_test_new = torch.from_numpy(X_test).float()\n",
    "y_test_new = torch.squeeze(torch.from_numpy(y_test).float())"
   ]
  },
  {
   "cell_type": "code",
   "execution_count": 26,
   "metadata": {
    "scrolled": true
   },
   "outputs": [
    {
     "name": "stdout",
     "output_type": "stream",
     "text": [
      "torch.Size([10260, 491]) torch.Size([10260])\n",
      "torch.Size([1962, 491]) torch.Size([1962])\n"
     ]
    }
   ],
   "source": [
    "print(X_train_new.shape, y_train_new.shape)\n",
    "print(X_test_new.shape, y_test_new.shape)"
   ]
  },
  {
   "cell_type": "code",
   "execution_count": 27,
   "metadata": {},
   "outputs": [],
   "source": [
    "n_input_dim=X_train_new.shape[1] #= the number of features\n",
    "n_hidden =8\n",
    "n_output = 1"
   ]
  },
  {
   "cell_type": "code",
   "execution_count": 28,
   "metadata": {},
   "outputs": [],
   "source": [
    "#network architecture\n",
    "class Net(nn.Module):\n",
    "    def __init__(self, n_input_dim):\n",
    "        super(Net, self).__init__()\n",
    "        self.fc1 = nn.Linear(n_input_dim, 64)\n",
    "        self.fc3 = nn.Linear(64, 1)\n",
    "        \n",
    "    def forward(self, x):\n",
    "        x = F.relu(self.fc1(x))\n",
    "        return torch.sigmoid(self.fc3(x))"
   ]
  },
  {
   "cell_type": "code",
   "execution_count": 29,
   "metadata": {},
   "outputs": [],
   "source": [
    "net=Net(n_input_dim)\n",
    "#print(net)"
   ]
  },
  {
   "cell_type": "code",
   "execution_count": 30,
   "metadata": {},
   "outputs": [],
   "source": [
    "#define the hyperparameters\n",
    "optimizer = optim.Adam(net.parameters(), lr=0.001)\n",
    "criterion = nn.BCELoss()"
   ]
  },
  {
   "cell_type": "code",
   "execution_count": 31,
   "metadata": {},
   "outputs": [],
   "source": [
    "from sklearn import metrics"
   ]
  },
  {
   "cell_type": "code",
   "execution_count": 32,
   "metadata": {},
   "outputs": [],
   "source": [
    "device = torch.device(\"cuda:0\" if torch.cuda.is_available() else \"cpu\")\n",
    "X_train_new = X_train_new.to(device)\n",
    "y_train_new = y_train_new.to(device)\n",
    "X_valid_new = X_valid_new.to(device)\n",
    "y_valid_new = y_valid_new.to(device)\n",
    "X_test_new = X_test_new.to(device)\n",
    "y_test_new = y_test_new.to(device)\n",
    "net = net.to(device)\n",
    "criterion = criterion.to(device)"
   ]
  },
  {
   "cell_type": "code",
   "execution_count": 33,
   "metadata": {},
   "outputs": [
    {
     "data": {
      "text/plain": [
       "torch.Size([5130])"
      ]
     },
     "execution_count": 33,
     "metadata": {},
     "output_type": "execute_result"
    }
   ],
   "source": [
    "y_train_new[y_train_new==0].shape"
   ]
  },
  {
   "cell_type": "code",
   "execution_count": 34,
   "metadata": {},
   "outputs": [],
   "source": [
    "def calculate_accuracy(y_true, y_pred):\n",
    "    predicted = y_pred.ge(.5).view(-1)\n",
    "    return (y_true == predicted).sum().float() / len(y_true)"
   ]
  },
  {
   "cell_type": "code",
   "execution_count": 35,
   "metadata": {},
   "outputs": [],
   "source": [
    "def round_tensor(t, decimal_places=3):\n",
    "    return round(t.item(), decimal_places)"
   ]
  },
  {
   "cell_type": "code",
   "execution_count": 36,
   "metadata": {},
   "outputs": [
    {
     "name": "stdout",
     "output_type": "stream",
     "text": [
      "<class 'torch.Tensor'>\n",
      "<class 'torch.Tensor'>\n",
      "epoch 0\n",
      "Train set - loss: 0.694, accuracy: 0.5\n",
      "Test  set - loss: 0.694, accuracy: 0.5\n",
      "\n",
      "<class 'torch.Tensor'>\n",
      "<class 'torch.Tensor'>\n",
      "epoch 100\n",
      "Train set - loss: 0.541, accuracy: 0.727\n",
      "Test  set - loss: 0.564, accuracy: 0.705\n",
      "\n",
      "<class 'torch.Tensor'>\n",
      "<class 'torch.Tensor'>\n",
      "epoch 200\n",
      "Train set - loss: 0.429, accuracy: 0.815\n",
      "Test  set - loss: 0.479, accuracy: 0.769\n",
      "\n",
      "<class 'torch.Tensor'>\n",
      "<class 'torch.Tensor'>\n",
      "epoch 300\n",
      "Train set - loss: 0.31, accuracy: 0.897\n",
      "Test  set - loss: 0.39, accuracy: 0.844\n",
      "\n",
      "<class 'torch.Tensor'>\n",
      "<class 'torch.Tensor'>\n",
      "epoch 400\n",
      "Train set - loss: 0.22, accuracy: 0.94\n",
      "Test  set - loss: 0.326, accuracy: 0.881\n",
      "\n",
      "<class 'torch.Tensor'>\n",
      "<class 'torch.Tensor'>\n",
      "epoch 500\n",
      "Train set - loss: 0.16, accuracy: 0.96\n",
      "Test  set - loss: 0.285, accuracy: 0.898\n",
      "\n",
      "<class 'torch.Tensor'>\n",
      "<class 'torch.Tensor'>\n",
      "epoch 600\n",
      "Train set - loss: 0.119, accuracy: 0.974\n",
      "Test  set - loss: 0.259, accuracy: 0.909\n",
      "\n",
      "<class 'torch.Tensor'>\n",
      "<class 'torch.Tensor'>\n",
      "epoch 700\n",
      "Train set - loss: 0.091, accuracy: 0.984\n",
      "Test  set - loss: 0.243, accuracy: 0.914\n",
      "\n",
      "<class 'torch.Tensor'>\n",
      "<class 'torch.Tensor'>\n",
      "epoch 800\n",
      "Train set - loss: 0.071, accuracy: 0.989\n",
      "Test  set - loss: 0.234, accuracy: 0.917\n",
      "\n"
     ]
    }
   ],
   "source": [
    "EPOCHS = 900\n",
    "total_train_acc=[]\n",
    "total_test_acc=[]\n",
    "for epoch in range(EPOCHS):\n",
    "    y_pred =torch.squeeze(net(X_train_new))\n",
    "   \n",
    "    #y_pred=net(X_train_new)\n",
    "    #print(y_pred.shape)\n",
    "    train_loss = criterion(y_pred, y_train_new)\n",
    "    \n",
    "    if epoch % 100 == 0:\n",
    "        train_acc = calculate_accuracy(y_train_new, y_pred)\n",
    "        #train_acc = metrics.roc_auc_score(y_train_new.detach().numpy(), y_pred.detach().numpy())\n",
    "        total_train_acc.append(train_acc)\n",
    "        y_valid_pred = net(X_valid_new)\n",
    "        \n",
    "        y_valid_pred = torch.squeeze(y_valid_pred)\n",
    "        #print(y_test_pred)\n",
    "        test_loss = criterion(y_valid_pred, y_valid_new)\n",
    "        \n",
    "        \n",
    "        print(type(train_loss))\n",
    "        test_acc = calculate_accuracy(y_valid_new, y_valid_pred)\n",
    "        #test_acc = metrics.roc_auc_score(y_valid_new.detach().numpy(), y_valid_pred.detach().numpy())\n",
    "        total_test_acc.append(test_acc)\n",
    "        print(type(test_acc))\n",
    "        print(f'''epoch {epoch}\n",
    "Train set - loss: {round_tensor(train_loss)}, accuracy: {round_tensor(train_acc)}\n",
    "Test  set - loss: {round_tensor(test_loss)}, accuracy: {round_tensor(test_acc)}\n",
    "''')\n",
    "        \n",
    "    optimizer.zero_grad()\n",
    "    \n",
    "    train_loss.backward()\n",
    "    \n",
    "    optimizer.step()"
   ]
  },
  {
   "cell_type": "code",
   "execution_count": 37,
   "metadata": {},
   "outputs": [],
   "source": [
    "import matplotlib.pyplot as plt"
   ]
  },
  {
   "cell_type": "code",
   "execution_count": 38,
   "metadata": {},
   "outputs": [],
   "source": [
    "from sklearn.metrics import roc_curve\n",
    "from sklearn.metrics import classification_report, accuracy_score, confusion_matrix, roc_auc_score\n"
   ]
  },
  {
   "cell_type": "code",
   "execution_count": 39,
   "metadata": {},
   "outputs": [],
   "source": [
    "y_pred =torch.squeeze(net(X_test_new))"
   ]
  },
  {
   "cell_type": "code",
   "execution_count": 40,
   "metadata": {},
   "outputs": [
    {
     "name": "stdout",
     "output_type": "stream",
     "text": [
      "0.64\n"
     ]
    }
   ],
   "source": [
    "auc_lr = roc_auc_score(y_test_new.detach().numpy(),y_pred.detach().numpy())\n",
    "print(round(auc_lr,2)) #.64\n",
    "\n",
    "#fpr_lr, tpr_lr, thresholds_lr = roc_curve(y_test_new, probs_lr)"
   ]
  },
  {
   "cell_type": "markdown",
   "metadata": {},
   "source": [
    "# Evaluation - Revenue Generation"
   ]
  },
  {
   "cell_type": "code",
   "execution_count": 41,
   "metadata": {},
   "outputs": [
    {
     "data": {
      "text/plain": [
       "30.0    934\n",
       "25.0    777\n",
       "35.0     95\n",
       "28.0     57\n",
       "38.0     47\n",
       "40.0     37\n",
       "50.0     12\n",
       "45.0      3\n",
       "Name: 8, dtype: int64"
      ]
     },
     "execution_count": 41,
     "metadata": {},
     "output_type": "execute_result"
    }
   ],
   "source": [
    "all_prices.value_counts()"
   ]
  },
  {
   "cell_type": "code",
   "execution_count": 42,
   "metadata": {},
   "outputs": [],
   "source": [
    "#scale each price point inputted using min max scaler\n",
    "def scalePrice(X):\n",
    "    y = (X - minPrice) / (maxPrice - minPrice)\n",
    "    return y"
   ]
  },
  {
   "cell_type": "code",
   "execution_count": 43,
   "metadata": {},
   "outputs": [],
   "source": [
    "#inverse transform of scalePrice\n",
    "def deScale(y):\n",
    "    x=(y*(maxPrice-minPrice)) + minPrice  \n",
    "    return x"
   ]
  },
  {
   "cell_type": "code",
   "execution_count": 44,
   "metadata": {},
   "outputs": [],
   "source": [
    "prices = [*range(25,51)]\n",
    "scaleprices = scalePrice(np.array(prices))"
   ]
  },
  {
   "cell_type": "code",
   "execution_count": 45,
   "metadata": {},
   "outputs": [],
   "source": [
    "#outputs the recommended price for each test instance\n",
    "def choosePrice(current_instance):\n",
    "    chosenPrice=25\n",
    "    highestPred =0\n",
    "    \n",
    "    \n",
    "    XX = np.zeros((len(prices),current_instance.shape[1]));\n",
    "    XX[0:len(prices),:] = current_instance\n",
    "    XX[0:len(prices),dfOriginalPriceIndex] = scaleprices\n",
    "    prediction=torch.squeeze(torch.from_numpy(XX).float())\n",
    "    indx = np.argmax(prediction)\n",
    "    \n",
    "    \n",
    "    return XX[indx,:]"
   ]
  },
  {
   "cell_type": "code",
   "execution_count": 46,
   "metadata": {},
   "outputs": [],
   "source": [
    "newArray=np.zeros((X_test.shape[0],X_test.shape[1]))"
   ]
  },
  {
   "cell_type": "code",
   "execution_count": 47,
   "metadata": {},
   "outputs": [
    {
     "name": "stdout",
     "output_type": "stream",
     "text": [
      "1962\n"
     ]
    }
   ],
   "source": [
    "for i in range(X_test.shape[0]):\n",
    "    newArray[i]=choosePrice(X_test[i].reshape(1,-1))"
   ]
  },
  {
   "cell_type": "code",
   "execution_count": 48,
   "metadata": {},
   "outputs": [],
   "source": [
    "#store all recommended prices outputted by the pricing model\n",
    "predictedPrice=[] \n",
    "for i in range(X_test.shape[0]):\n",
    "    price= deScale(newArray[i][dfOriginalPriceIndex])\n",
    "   # print(price)\n",
    "    predictedPrice.append(price)"
   ]
  },
  {
   "cell_type": "code",
   "execution_count": 49,
   "metadata": {},
   "outputs": [
    {
     "data": {
      "text/plain": [
       "32.0    836\n",
       "30.0    784\n",
       "26.0    293\n",
       "36.0     23\n",
       "35.0     21\n",
       "25.0      3\n",
       "27.0      2\n",
       "Name: predPrice, dtype: int64"
      ]
     },
     "execution_count": 49,
     "metadata": {},
     "output_type": "execute_result"
    }
   ],
   "source": [
    "predPrice=pd.Series(predictedPrice,name='predPrice')\n",
    "predPrice.value_counts()"
   ]
  },
  {
   "cell_type": "code",
   "execution_count": 50,
   "metadata": {},
   "outputs": [],
   "source": [
    "prices = [*range(25,51)]\n",
    "#get the number of times a customer purchased a bag at each price\n",
    "accepts = np.zeros(np.size(prices,0))\n",
    "counts = np.zeros(np.size(prices,0))\n",
    "all_prices = round(all_prices)\n",
    "i=0;\n",
    "for p in prices:\n",
    "    counts[i] = np.sum(all_prices==p)\n",
    "    accepts[i]=np.sum(y_test[all_prices==p])\n",
    "    i = i+1"
   ]
  },
  {
   "cell_type": "code",
   "execution_count": 51,
   "metadata": {},
   "outputs": [],
   "source": [
    "def smoothcounts(counts,accepts):\n",
    "    #the number of test instances\n",
    "    N = np.sum(counts,0)\n",
    "    rejects = counts - accepts\n",
    "    \n",
    "    #for each price count the number of acceptances for that price & all prices lower\n",
    "    cuma = np.flip(np.cumsum(np.flip(accepts)))\n",
    "    cumr = np.cumsum(rejects)\n",
    "    \n",
    "    cumm = cuma + cumr\n",
    "    \n",
    "    #the number of accepts asociated with a price / number of times it was offered\n",
    "    rawprob = accepts/(counts+(counts==0))\n",
    "    print(\"rawprob is\",rawprob)  \n",
    "    \n",
    "    alpha = rawprob\n",
    "   \n",
    "   \n",
    "    #taking into account the monotonicity in a customer's willingness to pay\n",
    "    prob2 = (cuma + (N-cumm)*alpha)/N   \n",
    "    print(\"prob2 is\",prob2)\n",
    "    return rawprob,prob2\n",
    "    "
   ]
  },
  {
   "cell_type": "code",
   "execution_count": 52,
   "metadata": {},
   "outputs": [
    {
     "name": "stdout",
     "output_type": "stream",
     "text": [
      "rawprob is [0.08751609 0.         0.         0.05263158 0.         0.21413276\n",
      " 0.         0.         0.         0.         0.05263158 0.\n",
      " 0.         0.04255319 0.         0.05405405 0.         0.\n",
      " 0.         0.         0.         0.         0.         0.\n",
      " 0.         0.        ]\n",
      "prob2 is [0.18611272 0.10805301 0.10805301 0.13452975 0.10652396 0.13446381\n",
      " 0.00458716 0.00458716 0.00458716 0.00458716 0.01440528 0.00203874\n",
      " 0.00203874 0.00910925 0.00101937 0.00909166 0.         0.\n",
      " 0.         0.         0.         0.         0.         0.\n",
      " 0.         0.        ]\n"
     ]
    }
   ],
   "source": [
    "rawprob,prob2=smoothcounts(counts,accepts)"
   ]
  },
  {
   "cell_type": "code",
   "execution_count": 53,
   "metadata": {},
   "outputs": [
    {
     "data": {
      "text/plain": [
       "{25: 0.18611271822280995,\n",
       " 26: 0.10805300713557595,\n",
       " 27: 0.10805300713557595,\n",
       " 28: 0.13452974945007778,\n",
       " 29: 0.10652395514780835,\n",
       " 30: 0.13446380588788698,\n",
       " 31: 0.0045871559633027525,\n",
       " 32: 0.0045871559633027525,\n",
       " 33: 0.0045871559633027525,\n",
       " 34: 0.0045871559633027525,\n",
       " 35: 0.014405279253178818,\n",
       " 36: 0.0020387359836901123,\n",
       " 37: 0.0020387359836901123,\n",
       " 38: 0.009109245884572842,\n",
       " 39: 0.0010193679918450561,\n",
       " 40: 0.009091660467807258,\n",
       " 41: 0.0,\n",
       " 42: 0.0,\n",
       " 43: 0.0,\n",
       " 44: 0.0,\n",
       " 45: 0.0,\n",
       " 46: 0.0,\n",
       " 47: 0.0,\n",
       " 48: 0.0,\n",
       " 49: 0.0,\n",
       " 50: 0.0}"
      ]
     },
     "execution_count": 53,
     "metadata": {},
     "output_type": "execute_result"
    }
   ],
   "source": [
    "#get the purchasing probability for each price point\n",
    "priceProbs = dict()\n",
    "i=0\n",
    "for p in range(25,51):\n",
    "    priceProbs[p] = prob2[i]\n",
    "    i=i+1\n",
    "priceProbs"
   ]
  },
  {
   "cell_type": "code",
   "execution_count": 54,
   "metadata": {},
   "outputs": [],
   "source": [
    "#get the revenue generated by the pricing model\n",
    "revenue = 0\n",
    "for p in predPrice:\n",
    "    revenue = revenue + p*priceProbs[p]"
   ]
  },
  {
   "cell_type": "code",
   "execution_count": 55,
   "metadata": {},
   "outputs": [
    {
     "data": {
      "text/plain": [
       "4140.521389069904"
      ]
     },
     "execution_count": 55,
     "metadata": {},
     "output_type": "execute_result"
    }
   ],
   "source": [
    "revenue"
   ]
  },
  {
   "cell_type": "code",
   "execution_count": null,
   "metadata": {},
   "outputs": [],
   "source": []
  }
 ],
 "metadata": {
  "kernelspec": {
   "display_name": "Python 3",
   "language": "python",
   "name": "python3"
  },
  "language_info": {
   "codemirror_mode": {
    "name": "ipython",
    "version": 3
   },
   "file_extension": ".py",
   "mimetype": "text/x-python",
   "name": "python",
   "nbconvert_exporter": "python",
   "pygments_lexer": "ipython3",
   "version": "3.7.3"
  }
 },
 "nbformat": 4,
 "nbformat_minor": 2
}
