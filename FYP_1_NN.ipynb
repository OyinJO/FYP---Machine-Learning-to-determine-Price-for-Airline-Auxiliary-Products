{
 "cells": [
  {
   "cell_type": "code",
   "execution_count": 1,
   "metadata": {},
   "outputs": [],
   "source": [
    "import importlib\n",
    "import matplotlib.pyplot as mp\n",
    "import numpy as np\n",
    "\n",
    "# Define IAM role\n",
    "#import boto3\n",
    "import re\n",
    "import gzip\n",
    "%matplotlib inline\n",
    "import datetime\n",
    "\n",
    "from sklearn.decomposition import PCA\n",
    "\n",
    "from sklearn import tree\n",
    "from sklearn.tree import export_graphviz\n",
    "import graphviz\n",
    "\n",
    "# create a python file with some functions that we'll use for the analysis\n",
    "#import funcs\n",
    "# for clustering\n",
    "from sklearn.cluster import KMeans\n",
    "# since I'll be updating funcs.py regularly, tell Jupyter to automatically reload before executing a command \n",
    "%load_ext autoreload\n",
    "%autoreload 2\n",
    "\n",
    "\n",
    "# to make matplotlib plots appear inline\n",
    "%matplotlib inline"
   ]
  },
  {
   "cell_type": "code",
   "execution_count": 2,
   "metadata": {},
   "outputs": [],
   "source": [
    "import pandas as pd"
   ]
  },
  {
   "cell_type": "code",
   "execution_count": 3,
   "metadata": {},
   "outputs": [],
   "source": [
    "def get_data(filename, comma):\n",
    "    \n",
    "    if comma:\n",
    "        df = pd.read_csv(filename)\n",
    "    else:\n",
    "        df = pd.read_csv(filename, sep=';')\n",
    "    return df"
   ]
  },
  {
   "cell_type": "code",
   "execution_count": 4,
   "metadata": {},
   "outputs": [],
   "source": [
    "bagsdf = get_data('testdata.csv', True)\n"
   ]
  },
  {
   "cell_type": "code",
   "execution_count": 5,
   "metadata": {},
   "outputs": [],
   "source": [
    "bagsdf.drop(\"Unnamed: 0\", axis=1, inplace=True)"
   ]
  },
  {
   "cell_type": "code",
   "execution_count": 6,
   "metadata": {},
   "outputs": [
    {
     "data": {
      "text/plain": [
       "Index(['MinLoggedUTC', 'MaxExternalBookingID', 'PaxType', 'ChannelID',\n",
       "       'RoleName', 'TripOriginLocationCode', 'TripDestinationLocationCode',\n",
       "       'NumberOfPassengers', 'FareClass', 'TripType', 'TreatmentRank',\n",
       "       'SegmentOriginLocationCode', 'SegmentDestinationLocationCode',\n",
       "       'TripReturnTravelDate', 'TripFirstTravelDate', 'SegmentFirstTravelDate',\n",
       "       'TotalFare', 'JourneySalesDate', 'AgeOfPassengersArray',\n",
       "       'FirstPaxProgramLevel', 'TreatmentProductSequence', 'TreatmentRanked',\n",
       "       'TreatmentIDBook', 'QuantityBooked', 'FinalStage', 'ProductID',\n",
       "       'ProductName', 'Amount', 'OriginalPrice', 'Role_Type', 'Price_Type'],\n",
       "      dtype='object')"
      ]
     },
     "execution_count": 6,
     "metadata": {},
     "output_type": "execute_result"
    }
   ],
   "source": [
    "bagsdf.columns"
   ]
  },
  {
   "cell_type": "markdown",
   "metadata": {},
   "source": [
    "# Feature Engineering"
   ]
  },
  {
   "cell_type": "markdown",
   "metadata": {},
   "source": [
    "### Fortnight Stay \n",
    "- Feature for if duration of trip is greater than 14 days"
   ]
  },
  {
   "cell_type": "code",
   "execution_count": 7,
   "metadata": {},
   "outputs": [],
   "source": [
    "def fortnightDuration(firstTravelDate, returnTravelDate):\n",
    "    \n",
    "    firstTravel= datetime.datetime.strptime(firstTravelDate.split(' ')[0], '%m/%d/%Y')\n",
    "    returnTravel= 0\n",
    "    if isinstance(returnTravelDate,str):\n",
    "        returnTravel= datetime.datetime.strptime(returnTravelDate.split(' ')[0], '%m/%d/%Y') \n",
    "    if(returnTravel!=0):\n",
    "        elapsed_time= returnTravel-firstTravel\n",
    "        duration_val= (1 if((abs(elapsed_time.days))>= 14 ) else 0)\n",
    "                       \n",
    "    else:\n",
    "        duration_val=0\n",
    "        \n",
    "    return duration_val"
   ]
  },
  {
   "cell_type": "code",
   "execution_count": 8,
   "metadata": {},
   "outputs": [],
   "source": [
    "bagsdf['FortnightStay']=pd.Series()"
   ]
  },
  {
   "cell_type": "code",
   "execution_count": 9,
   "metadata": {},
   "outputs": [],
   "source": [
    "bagsdf['FortnightStay']= list(map(fortnightDuration,bagsdf['TripFirstTravelDate'], bagsdf['TripReturnTravelDate']))"
   ]
  },
  {
   "cell_type": "code",
   "execution_count": 10,
   "metadata": {},
   "outputs": [
    {
     "data": {
      "text/plain": [
       "0    9710\n",
       "1     290\n",
       "Name: FortnightStay, dtype: int64"
      ]
     },
     "execution_count": 10,
     "metadata": {},
     "output_type": "execute_result"
    }
   ],
   "source": [
    "bagsdf['FortnightStay'].value_counts()"
   ]
  },
  {
   "cell_type": "markdown",
   "metadata": {},
   "source": [
    "### Round Trip \n",
    "- Whether the booking is round trip or one way \n",
    "- If TripOriginLocationCode == SegmentDestinationLocationCode"
   ]
  },
  {
   "cell_type": "code",
   "execution_count": 11,
   "metadata": {},
   "outputs": [
    {
     "data": {
      "text/html": [
       "<div>\n",
       "<style scoped>\n",
       "    .dataframe tbody tr th:only-of-type {\n",
       "        vertical-align: middle;\n",
       "    }\n",
       "\n",
       "    .dataframe tbody tr th {\n",
       "        vertical-align: top;\n",
       "    }\n",
       "\n",
       "    .dataframe thead th {\n",
       "        text-align: right;\n",
       "    }\n",
       "</style>\n",
       "<table border=\"1\" class=\"dataframe\">\n",
       "  <thead>\n",
       "    <tr style=\"text-align: right;\">\n",
       "      <th></th>\n",
       "      <th>TripOriginLocationCode</th>\n",
       "      <th>TripDestinationLocationCode</th>\n",
       "      <th>SegmentOriginLocationCode</th>\n",
       "      <th>SegmentDestinationLocationCode</th>\n",
       "    </tr>\n",
       "  </thead>\n",
       "  <tbody>\n",
       "    <tr>\n",
       "      <th>0</th>\n",
       "      <td>RDU</td>\n",
       "      <td>DTW</td>\n",
       "      <td>RDU</td>\n",
       "      <td>DTW</td>\n",
       "    </tr>\n",
       "    <tr>\n",
       "      <th>1</th>\n",
       "      <td>RDU</td>\n",
       "      <td>DTW</td>\n",
       "      <td>RDU</td>\n",
       "      <td>DTW</td>\n",
       "    </tr>\n",
       "    <tr>\n",
       "      <th>2</th>\n",
       "      <td>DEN</td>\n",
       "      <td>HRL</td>\n",
       "      <td>HRL</td>\n",
       "      <td>DEN</td>\n",
       "    </tr>\n",
       "    <tr>\n",
       "      <th>3</th>\n",
       "      <td>DEN</td>\n",
       "      <td>HRL</td>\n",
       "      <td>HRL</td>\n",
       "      <td>DEN</td>\n",
       "    </tr>\n",
       "    <tr>\n",
       "      <th>4</th>\n",
       "      <td>DEN</td>\n",
       "      <td>HRL</td>\n",
       "      <td>DEN</td>\n",
       "      <td>HRL</td>\n",
       "    </tr>\n",
       "  </tbody>\n",
       "</table>\n",
       "</div>"
      ],
      "text/plain": [
       "  TripOriginLocationCode TripDestinationLocationCode  \\\n",
       "0                    RDU                         DTW   \n",
       "1                    RDU                         DTW   \n",
       "2                    DEN                         HRL   \n",
       "3                    DEN                         HRL   \n",
       "4                    DEN                         HRL   \n",
       "\n",
       "  SegmentOriginLocationCode SegmentDestinationLocationCode  \n",
       "0                       RDU                            DTW  \n",
       "1                       RDU                            DTW  \n",
       "2                       HRL                            DEN  \n",
       "3                       HRL                            DEN  \n",
       "4                       DEN                            HRL  "
      ]
     },
     "execution_count": 11,
     "metadata": {},
     "output_type": "execute_result"
    }
   ],
   "source": [
    "bagsdf[['TripOriginLocationCode', 'TripDestinationLocationCode','SegmentOriginLocationCode', 'SegmentDestinationLocationCode']].head()"
   ]
  },
  {
   "cell_type": "code",
   "execution_count": 12,
   "metadata": {},
   "outputs": [],
   "source": [
    "bagsdf['roundTrip']=pd.Series()"
   ]
  },
  {
   "cell_type": "code",
   "execution_count": 13,
   "metadata": {},
   "outputs": [],
   "source": [
    "def equalDest(col1, col2):\n",
    "    if(col1==col2):\n",
    "        return 1\n",
    "    else:\n",
    "        return 0\n",
    "   "
   ]
  },
  {
   "cell_type": "code",
   "execution_count": 14,
   "metadata": {},
   "outputs": [],
   "source": [
    "bagsdf['roundTrip'] = list(map(equalDest,bagsdf['TripOriginLocationCode'], bagsdf['SegmentDestinationLocationCode']))"
   ]
  },
  {
   "cell_type": "code",
   "execution_count": 15,
   "metadata": {},
   "outputs": [
    {
     "data": {
      "text/plain": [
       "0    7026\n",
       "1    2974\n",
       "Name: roundTrip, dtype: int64"
      ]
     },
     "execution_count": 15,
     "metadata": {},
     "output_type": "execute_result"
    }
   ],
   "source": [
    "bagsdf['roundTrip'].value_counts()"
   ]
  },
  {
   "cell_type": "markdown",
   "metadata": {},
   "source": [
    "### SatNightStay\n",
    "- If the trip involves a stay on a saturday"
   ]
  },
  {
   "cell_type": "code",
   "execution_count": 16,
   "metadata": {},
   "outputs": [],
   "source": [
    "def getDuration(firstTravelDate, returnTravelDate):\n",
    "    \n",
    "    firstTravel= datetime.datetime.strptime(firstTravelDate.split(' ')[0], '%m/%d/%Y')\n",
    "    returnTravel= 0\n",
    "    \n",
    "    if isinstance(returnTravelDate,str):\n",
    "        returnTravel= datetime.datetime.strptime(returnTravelDate.split(' ')[0], '%m/%d/%Y') \n",
    "        \n",
    "    if(returnTravel!=0):\n",
    "        elapsed_time= abs((returnTravel-firstTravel).days)\n",
    "        \n",
    "    else:\n",
    "        elapsed_time=8\n",
    "        \n",
    "    return elapsed_time, firstTravel, returnTravel;"
   ]
  },
  {
   "cell_type": "code",
   "execution_count": 17,
   "metadata": {},
   "outputs": [],
   "source": [
    "def dayStay(firstTravelDate, returnTravelDate, dayNum):\n",
    "    Stayed=0\n",
    "    dayNum=int(dayNum)\n",
    "    #if length of stay is a week or more \n",
    "    duration, firstTravel, returnTravel = getDuration(firstTravelDate, returnTravelDate) \n",
    "    if (duration > 7):\n",
    "        Stayed =1\n",
    "    else:\n",
    "        #increase the date until we get to return Travel Date\n",
    "        for i in range(duration+1):\n",
    "            if ((firstTravel+datetime.timedelta(days=i)).weekday()==dayNum):\n",
    "                Stayed = 1\n",
    "                             \n",
    "    return Stayed"
   ]
  },
  {
   "cell_type": "code",
   "execution_count": 18,
   "metadata": {},
   "outputs": [],
   "source": [
    "bagsdf['SatStay']=pd.Series()"
   ]
  },
  {
   "cell_type": "code",
   "execution_count": 19,
   "metadata": {},
   "outputs": [],
   "source": [
    "dayNum=5\n",
    "bagsdf['SatStay']= [dayStay(bagsdf['TripFirstTravelDate'][i], bagsdf['TripReturnTravelDate'][i], 5) for i in bagsdf.index]"
   ]
  },
  {
   "cell_type": "code",
   "execution_count": 20,
   "metadata": {},
   "outputs": [
    {
     "data": {
      "text/plain": [
       "1    9295\n",
       "0     705\n",
       "Name: SatStay, dtype: int64"
      ]
     },
     "execution_count": 20,
     "metadata": {},
     "output_type": "execute_result"
    }
   ],
   "source": [
    "bagsdf[\"SatStay\"].value_counts()"
   ]
  },
  {
   "cell_type": "markdown",
   "metadata": {},
   "source": [
    "### WeekendStay\n",
    "- Did the trip include a weekend stay"
   ]
  },
  {
   "cell_type": "code",
   "execution_count": 21,
   "metadata": {},
   "outputs": [],
   "source": [
    "def weekendStay(firstTravelDate, returnTravelDate):\n",
    "    \n",
    "    \n",
    "    friCheck = dayStay(firstTravelDate, returnTravelDate, 4)\n",
    "    satCheck = dayStay(firstTravelDate, returnTravelDate, 5)\n",
    "    sunCheck = dayStay(firstTravelDate, returnTravelDate, 6)\n",
    "     \n",
    "    if(friCheck & satCheck & sunCheck):\n",
    "        weekendCheck = 1\n",
    "    else:\n",
    "        weekendCheck=0\n",
    "    \n",
    "    return weekendCheck\n",
    "    "
   ]
  },
  {
   "cell_type": "code",
   "execution_count": 22,
   "metadata": {},
   "outputs": [],
   "source": [
    "bagsdf['weekendStay']=pd.Series()"
   ]
  },
  {
   "cell_type": "code",
   "execution_count": 23,
   "metadata": {},
   "outputs": [],
   "source": [
    "bagsdf['weekendStay']=list(map(weekendStay,bagsdf['TripFirstTravelDate'], bagsdf['TripReturnTravelDate']))"
   ]
  },
  {
   "cell_type": "code",
   "execution_count": 24,
   "metadata": {},
   "outputs": [
    {
     "data": {
      "text/plain": [
       "1    8452\n",
       "0    1548\n",
       "Name: weekendStay, dtype: int64"
      ]
     },
     "execution_count": 24,
     "metadata": {},
     "output_type": "execute_result"
    }
   ],
   "source": [
    "bagsdf['weekendStay'].value_counts()"
   ]
  },
  {
   "cell_type": "markdown",
   "metadata": {},
   "source": [
    "# Data Prep"
   ]
  },
  {
   "cell_type": "code",
   "execution_count": 25,
   "metadata": {},
   "outputs": [
    {
     "data": {
      "text/plain": [
       "(10000, 35)"
      ]
     },
     "execution_count": 25,
     "metadata": {},
     "output_type": "execute_result"
    }
   ],
   "source": [
    "bagsdf.shape"
   ]
  },
  {
   "cell_type": "code",
   "execution_count": 26,
   "metadata": {},
   "outputs": [
    {
     "data": {
      "text/plain": [
       "MinLoggedUTC                       object\n",
       "MaxExternalBookingID                int64\n",
       "PaxType                            object\n",
       "ChannelID                           int64\n",
       "RoleName                           object\n",
       "TripOriginLocationCode             object\n",
       "TripDestinationLocationCode        object\n",
       "NumberOfPassengers                  int64\n",
       "FareClass                          object\n",
       "TripType                            int64\n",
       "TreatmentRank                       int64\n",
       "SegmentOriginLocationCode          object\n",
       "SegmentDestinationLocationCode     object\n",
       "TripReturnTravelDate               object\n",
       "TripFirstTravelDate                object\n",
       "SegmentFirstTravelDate             object\n",
       "TotalFare                         float64\n",
       "JourneySalesDate                   object\n",
       "AgeOfPassengersArray               object\n",
       "FirstPaxProgramLevel               object\n",
       "TreatmentProductSequence            int64\n",
       "TreatmentRanked                     int64\n",
       "TreatmentIDBook                     int64\n",
       "QuantityBooked                      int64\n",
       "FinalStage                          int64\n",
       "ProductID                           int64\n",
       "ProductName                        object\n",
       "Amount                            float64\n",
       "OriginalPrice                     float64\n",
       "Role_Type                          object\n",
       "Price_Type                         object\n",
       "FortnightStay                       int64\n",
       "roundTrip                           int64\n",
       "SatStay                             int64\n",
       "weekendStay                         int64\n",
       "dtype: object"
      ]
     },
     "execution_count": 26,
     "metadata": {},
     "output_type": "execute_result"
    }
   ],
   "source": [
    "bagsdf.dtypes"
   ]
  },
  {
   "cell_type": "code",
   "execution_count": 27,
   "metadata": {},
   "outputs": [
    {
     "data": {
      "text/plain": [
       "MinLoggedUTC                         0\n",
       "MaxExternalBookingID                 0\n",
       "PaxType                              0\n",
       "ChannelID                            0\n",
       "RoleName                             0\n",
       "TripOriginLocationCode               0\n",
       "TripDestinationLocationCode          0\n",
       "NumberOfPassengers                   0\n",
       "FareClass                            0\n",
       "TripType                             0\n",
       "TreatmentRank                        0\n",
       "SegmentOriginLocationCode            0\n",
       "SegmentDestinationLocationCode       0\n",
       "TripReturnTravelDate              3898\n",
       "TripFirstTravelDate                  0\n",
       "SegmentFirstTravelDate               0\n",
       "TotalFare                            0\n",
       "JourneySalesDate                   193\n",
       "AgeOfPassengersArray              7239\n",
       "FirstPaxProgramLevel              7971\n",
       "TreatmentProductSequence             0\n",
       "TreatmentRanked                      0\n",
       "TreatmentIDBook                      0\n",
       "QuantityBooked                       0\n",
       "FinalStage                           0\n",
       "ProductID                            0\n",
       "ProductName                          0\n",
       "Amount                               0\n",
       "OriginalPrice                        0\n",
       "Role_Type                            0\n",
       "Price_Type                           0\n",
       "FortnightStay                        0\n",
       "roundTrip                            0\n",
       "SatStay                              0\n",
       "weekendStay                          0\n",
       "dtype: int64"
      ]
     },
     "execution_count": 27,
     "metadata": {},
     "output_type": "execute_result"
    }
   ],
   "source": [
    "bagsdf.isnull().sum()"
   ]
  },
  {
   "cell_type": "code",
   "execution_count": 28,
   "metadata": {},
   "outputs": [],
   "source": [
    "cols=list(bagsdf.columns)\n",
    "#cols"
   ]
  },
  {
   "cell_type": "markdown",
   "metadata": {},
   "source": [
    "with null values:\n",
    "- TripReturnTravelDate\n",
    "- JourneySalesDate\n",
    "- AgeofPssengersArray\n",
    "- FirstPaxProgramLevel"
   ]
  },
  {
   "cell_type": "markdown",
   "metadata": {},
   "source": [
    "- Drop the columns JourneySalesDate, AgeofPssengersArray & FirstPaxProgramLevel because of large amounts of null values(more than half of the rows are nul) and they arent useful\n",
    "- However the date the prodcut was sold and the trip return date may be helpful\n",
    "- From comparing MinLoggedUTC to JourneySalesDate they seem to be the same data"
   ]
  },
  {
   "cell_type": "code",
   "execution_count": 29,
   "metadata": {},
   "outputs": [],
   "source": [
    "bagsdf.drop([\"AgeOfPassengersArray\",\"FirstPaxProgramLevel\", 'MinLoggedUTC'], axis=1, inplace=True)"
   ]
  },
  {
   "cell_type": "code",
   "execution_count": 30,
   "metadata": {},
   "outputs": [],
   "source": [
    "#U for Unknown\n",
    "#bagsdf.fillna('U', inplace=True)"
   ]
  },
  {
   "cell_type": "code",
   "execution_count": 31,
   "metadata": {},
   "outputs": [],
   "source": [
    "def changeDate(col, delim):\n",
    "    y=col.strip(\"Date\")\n",
    "    if(delim == '-'):\n",
    "        bagsdf[y+\"Year\"]=[int(x.split(delim)[0]) if isinstance(x,str) else 0 for x in bagsdf[col] ]\n",
    "        bagsdf[y+\"Month\"]=[int(x.split(delim)[1]) if isinstance(x,str) else 0 for x in bagsdf[col] ]\n",
    "        bagsdf[y+\"Day\"]=[int(x.split(delim)[2][0:2]) if isinstance(x,str) else 0 for x in bagsdf[col] ]\n",
    "    else:\n",
    "        bagsdf[y+\"Year\"]=[int(x.split(delim)[2][0:4]) if isinstance(x,str) else 0 for x in bagsdf[col] ]\n",
    "        bagsdf[y+\"Month\"]=[int(x.split(delim)[0]) if isinstance(x,str) else 0 for x in bagsdf[col] ]\n",
    "        bagsdf[y+\"Day\"]=[int(x.split(delim)[1]) if isinstance(x,str) else 0 for x in bagsdf[col] ]\n",
    "    bagsdf.pop(col)"
   ]
  },
  {
   "cell_type": "code",
   "execution_count": 32,
   "metadata": {},
   "outputs": [
    {
     "data": {
      "text/plain": [
       "Index(['MaxExternalBookingID', 'PaxType', 'ChannelID', 'RoleName',\n",
       "       'TripOriginLocationCode', 'TripDestinationLocationCode',\n",
       "       'NumberOfPassengers', 'FareClass', 'TripType', 'TreatmentRank',\n",
       "       'SegmentOriginLocationCode', 'SegmentDestinationLocationCode',\n",
       "       'TripReturnTravelDate', 'TripFirstTravelDate', 'SegmentFirstTravelDate',\n",
       "       'TotalFare', 'JourneySalesDate', 'TreatmentProductSequence',\n",
       "       'TreatmentRanked', 'TreatmentIDBook', 'QuantityBooked', 'FinalStage',\n",
       "       'ProductID', 'ProductName', 'Amount', 'OriginalPrice', 'Role_Type',\n",
       "       'Price_Type', 'FortnightStay', 'roundTrip', 'SatStay', 'weekendStay'],\n",
       "      dtype='object')"
      ]
     },
     "execution_count": 32,
     "metadata": {},
     "output_type": "execute_result"
    }
   ],
   "source": [
    "bagsdf.columns"
   ]
  },
  {
   "cell_type": "code",
   "execution_count": 33,
   "metadata": {},
   "outputs": [],
   "source": [
    "changeDate(\"JourneySalesDate\", '-')"
   ]
  },
  {
   "cell_type": "code",
   "execution_count": 34,
   "metadata": {},
   "outputs": [],
   "source": [
    "changeDate('TripFirstTravelDate', '/')"
   ]
  },
  {
   "cell_type": "code",
   "execution_count": 35,
   "metadata": {},
   "outputs": [],
   "source": [
    "changeDate('SegmentFirstTravelDate', '/')"
   ]
  },
  {
   "cell_type": "code",
   "execution_count": 36,
   "metadata": {},
   "outputs": [],
   "source": [
    "changeDate('TripReturnTravelDate', '/')"
   ]
  },
  {
   "cell_type": "code",
   "execution_count": 37,
   "metadata": {},
   "outputs": [
    {
     "data": {
      "text/plain": [
       "Index(['MaxExternalBookingID', 'PaxType', 'ChannelID', 'RoleName',\n",
       "       'TripOriginLocationCode', 'TripDestinationLocationCode',\n",
       "       'NumberOfPassengers', 'FareClass', 'TripType', 'TreatmentRank',\n",
       "       'SegmentOriginLocationCode', 'SegmentDestinationLocationCode',\n",
       "       'TotalFare', 'TreatmentProductSequence', 'TreatmentRanked',\n",
       "       'TreatmentIDBook', 'QuantityBooked', 'FinalStage', 'ProductID',\n",
       "       'ProductName', 'Amount', 'OriginalPrice', 'Role_Type', 'Price_Type',\n",
       "       'FortnightStay', 'roundTrip', 'SatStay', 'weekendStay',\n",
       "       'JourneySalesYear', 'JourneySalesMonth', 'JourneySalesDay',\n",
       "       'TripFirstTravelYear', 'TripFirstTravelMonth', 'TripFirstTravelDay',\n",
       "       'SegmentFirstTravelYear', 'SegmentFirstTravelMonth',\n",
       "       'SegmentFirstTravelDay', 'TripReturnTravelYear',\n",
       "       'TripReturnTravelMonth', 'TripReturnTravelDay'],\n",
       "      dtype='object')"
      ]
     },
     "execution_count": 37,
     "metadata": {},
     "output_type": "execute_result"
    }
   ],
   "source": [
    "bagsdf.columns"
   ]
  },
  {
   "cell_type": "code",
   "execution_count": 38,
   "metadata": {},
   "outputs": [
    {
     "data": {
      "text/plain": [
       "0            8700\n",
       "611263758       1\n",
       "611605609       1\n",
       "612138109       1\n",
       "611498675       1\n",
       "612496516       1\n",
       "612899985       1\n",
       "611947688       1\n",
       "612097193       1\n",
       "611140786       1\n",
       "612787382       1\n",
       "612953279       1\n",
       "612960277       1\n",
       "612834497       1\n",
       "611327177       1\n",
       "611335373       1\n",
       "611661036       1\n",
       "611974381       1\n",
       "611704065       1\n",
       "611413079       1\n",
       "612035663       1\n",
       "611087436       1\n",
       "612307944       1\n",
       "611832720       1\n",
       "611527583       1\n",
       "611392417       1\n",
       "611926970       1\n",
       "611599306       1\n",
       "612785121       1\n",
       "611763170       1\n",
       "             ... \n",
       "611981982       1\n",
       "611404372       1\n",
       "611889827       1\n",
       "611498674       1\n",
       "613640888       1\n",
       "611879612       1\n",
       "612329947       1\n",
       "611670734       1\n",
       "611404508       1\n",
       "611686998       1\n",
       "611250755       1\n",
       "611256700       1\n",
       "611520991       1\n",
       "611942805       1\n",
       "612346264       1\n",
       "612553119       1\n",
       "612442537       1\n",
       "611348915       1\n",
       "611910077       1\n",
       "611725779       1\n",
       "612618735       1\n",
       "612688441       1\n",
       "612538878       1\n",
       "611850774       1\n",
       "612831767       1\n",
       "611756568       1\n",
       "611672617       1\n",
       "611676715       1\n",
       "611959341       1\n",
       "611749958       1\n",
       "Name: TreatmentIDBook, Length: 1301, dtype: int64"
      ]
     },
     "execution_count": 38,
     "metadata": {},
     "output_type": "execute_result"
    }
   ],
   "source": [
    "bagsdf.TreatmentIDBook.value_counts() #all values are unique => not useful"
   ]
  },
  {
   "cell_type": "code",
   "execution_count": 39,
   "metadata": {},
   "outputs": [],
   "source": [
    "bagsdf.drop(\"TreatmentIDBook\", axis=1, inplace=True)"
   ]
  },
  {
   "cell_type": "code",
   "execution_count": 40,
   "metadata": {},
   "outputs": [
    {
     "data": {
      "text/html": [
       "<div>\n",
       "<style scoped>\n",
       "    .dataframe tbody tr th:only-of-type {\n",
       "        vertical-align: middle;\n",
       "    }\n",
       "\n",
       "    .dataframe tbody tr th {\n",
       "        vertical-align: top;\n",
       "    }\n",
       "\n",
       "    .dataframe thead th {\n",
       "        text-align: right;\n",
       "    }\n",
       "</style>\n",
       "<table border=\"1\" class=\"dataframe\">\n",
       "  <thead>\n",
       "    <tr style=\"text-align: right;\">\n",
       "      <th></th>\n",
       "      <th>ProductName</th>\n",
       "      <th>ProductID</th>\n",
       "    </tr>\n",
       "  </thead>\n",
       "  <tbody>\n",
       "    <tr>\n",
       "      <th>0</th>\n",
       "      <td>BAG1</td>\n",
       "      <td>78</td>\n",
       "    </tr>\n",
       "    <tr>\n",
       "      <th>1</th>\n",
       "      <td>COB1</td>\n",
       "      <td>84</td>\n",
       "    </tr>\n",
       "    <tr>\n",
       "      <th>2</th>\n",
       "      <td>BAG1</td>\n",
       "      <td>78</td>\n",
       "    </tr>\n",
       "    <tr>\n",
       "      <th>3</th>\n",
       "      <td>COB1</td>\n",
       "      <td>84</td>\n",
       "    </tr>\n",
       "    <tr>\n",
       "      <th>4</th>\n",
       "      <td>BAG1</td>\n",
       "      <td>78</td>\n",
       "    </tr>\n",
       "  </tbody>\n",
       "</table>\n",
       "</div>"
      ],
      "text/plain": [
       "  ProductName  ProductID\n",
       "0        BAG1         78\n",
       "1        COB1         84\n",
       "2        BAG1         78\n",
       "3        COB1         84\n",
       "4        BAG1         78"
      ]
     },
     "execution_count": 40,
     "metadata": {},
     "output_type": "execute_result"
    }
   ],
   "source": [
    "#Cols ProductName and Product ID give the same info\n",
    "bagsdf[['ProductName', 'ProductID']].head()"
   ]
  },
  {
   "cell_type": "code",
   "execution_count": 41,
   "metadata": {},
   "outputs": [],
   "source": [
    "bagsdf.drop(\"ProductName\", axis=1, inplace=True)"
   ]
  },
  {
   "cell_type": "code",
   "execution_count": 42,
   "metadata": {},
   "outputs": [
    {
     "data": {
      "text/plain": [
       "1     9371\n",
       "0      193\n",
       "10      44\n",
       "14      40\n",
       "21      32\n",
       "18      28\n",
       "11      28\n",
       "20      26\n",
       "26      20\n",
       "27      20\n",
       "13      20\n",
       "16      16\n",
       "6       16\n",
       "17      14\n",
       "15      14\n",
       "5       12\n",
       "8       12\n",
       "24      12\n",
       "7       12\n",
       "23      12\n",
       "28      12\n",
       "25       8\n",
       "9        8\n",
       "19       8\n",
       "12       8\n",
       "30       8\n",
       "29       4\n",
       "22       2\n",
       "Name: JourneySalesDay, dtype: int64"
      ]
     },
     "execution_count": 42,
     "metadata": {},
     "output_type": "execute_result"
    }
   ],
   "source": [
    "bagsdf.JourneySalesDay.value_counts()"
   ]
  },
  {
   "cell_type": "code",
   "execution_count": 43,
   "metadata": {},
   "outputs": [
    {
     "data": {
      "text/plain": [
       "0    78\n",
       "1    84\n",
       "2    78\n",
       "3    84\n",
       "4    78\n",
       "Name: ProductID, dtype: int64"
      ]
     },
     "execution_count": 43,
     "metadata": {},
     "output_type": "execute_result"
    }
   ],
   "source": [
    "bagsdf.ProductID.head()"
   ]
  },
  {
   "cell_type": "code",
   "execution_count": 44,
   "metadata": {},
   "outputs": [],
   "source": [
    "bagsdf.drop(\"FinalStage\", axis=1, inplace=True)"
   ]
  },
  {
   "cell_type": "code",
   "execution_count": 45,
   "metadata": {},
   "outputs": [],
   "source": [
    "df=pd.get_dummies(bagsdf, drop_first=False)"
   ]
  },
  {
   "cell_type": "markdown",
   "metadata": {},
   "source": [
    "         "
   ]
  },
  {
   "cell_type": "code",
   "execution_count": 46,
   "metadata": {},
   "outputs": [
    {
     "data": {
      "text/plain": [
       "0    8700\n",
       "1    1044\n",
       "2     198\n",
       "3      30\n",
       "4      18\n",
       "7       4\n",
       "6       4\n",
       "5       2\n",
       "Name: QuantityBooked, dtype: int64"
      ]
     },
     "execution_count": 46,
     "metadata": {},
     "output_type": "execute_result"
    }
   ],
   "source": [
    "df['QuantityBooked'].value_counts()"
   ]
  },
  {
   "cell_type": "code",
   "execution_count": 47,
   "metadata": {},
   "outputs": [],
   "source": [
    "df.loc[df['QuantityBooked']>=1,'Booked']=1"
   ]
  },
  {
   "cell_type": "code",
   "execution_count": 48,
   "metadata": {},
   "outputs": [],
   "source": [
    "df[\"Booked\"] = [1 if i>=1 else 0 for i in df['QuantityBooked']>=1]"
   ]
  },
  {
   "cell_type": "markdown",
   "metadata": {},
   "source": [
    "# Visualisation"
   ]
  },
  {
   "cell_type": "code",
   "execution_count": 49,
   "metadata": {},
   "outputs": [],
   "source": [
    "import matplotlib.pyplot as plt"
   ]
  },
  {
   "cell_type": "code",
   "execution_count": 50,
   "metadata": {},
   "outputs": [
    {
     "data": {
      "image/png": "[encoded data removed]",
      "text/plain": [
       "<Figure size 504x504 with 1 Axes>"
      ]
     },
     "metadata": {},
     "output_type": "display_data"
    }
   ],
   "source": [
    "fig,ax=plt.subplots(figsize=(7,7))\n",
    "s2=dict(df.Booked.value_counts())\n",
    "vals=list(s2.values())\n",
    "labels=['No bags', 'At least one bag']\n",
    "explode=(0,0.1)\n",
    "#fig1, ax1 = plt.subplots()\n",
    "ax.pie(vals, explode=explode, labels=labels, autopct='%1.1f%%',\n",
    "        shadow=True, startangle=90)\n",
    "plt.title('Likelihood of adding a bag')\n",
    "ax.axis('equal')  # Equal aspect ratio ensures that pie is drawn as a circle.\n",
    "\n",
    "plt.show()"
   ]
  },
  {
   "cell_type": "code",
   "execution_count": 51,
   "metadata": {},
   "outputs": [],
   "source": [
    "bagsbyMonth= bagsdf.groupby(['TripFirstTravelMonth', 'QuantityBooked']).size().reset_index(name='counts')"
   ]
  },
  {
   "cell_type": "code",
   "execution_count": 52,
   "metadata": {},
   "outputs": [],
   "source": [
    "month={}\n",
    "\n",
    "for i in range(1,13):\n",
    "    sum=0\n",
    "    for ind in bagsbyMonth.index:\n",
    "        if (bagsbyMonth.TripFirstTravelMonth[ind]==i):\n",
    "            sum = sum + bagsbyMonth.QuantityBooked[ind]*bagsbyMonth.counts[ind]\n",
    "        month[i]=sum\n",
    "    "
   ]
  },
  {
   "cell_type": "code",
   "execution_count": 53,
   "metadata": {},
   "outputs": [],
   "source": [
    "winter=['Jan','Nov', 'Dec']\n",
    "spring=['Feb', 'Mar', 'Apr']\n",
    "summer=['May', 'Jun', 'Jul']\n",
    "autumn=['Aug', 'Sep', 'Oct']"
   ]
  },
  {
   "cell_type": "markdown",
   "metadata": {},
   "source": [
    "fig, ax = plt.subplots(figsize=(10,10))\n",
    "#color=['red'] + ['green']*3 + ['blue']*3 + ['yellow']*3 +['red']*2\n",
    "from matplotlib.patches import Patch\n",
    "\n",
    "color=dict.fromkeys(winter, 'blue')\n",
    "color.update(dict.fromkeys(spring, 'yellow'))\n",
    "color.update(dict.fromkeys(summer, 'orange'))\n",
    "color.update(dict.fromkeys(autumn, 'brown'))\n",
    "colours={'winter': 'blue', 'spring':'yellow', 'summer':'orange', 'autumn':'brown'}\n",
    "\n",
    "time=['Jan', 'Feb', 'Mar', 'Apr', 'May', 'Jun', 'Jul', 'Aug', 'Sep', 'Oct', 'Nov', 'Dec']\n",
    "color={k:color[k] for k in time}\n",
    "\n",
    "ax.bar(month.keys(), month.values(), color=color.values())\n",
    "\n",
    "\n",
    "handlesleg=[\n",
    "    Patch(color='blue', label='winter'),\n",
    "    Patch(color='yellow', label='spring'),\n",
    "    Patch(color='orange', label='summer'),\n",
    "    Patch(color='brown', label='autumn')\n",
    "]\n",
    "plt.legend(handles=handlesleg)\n",
    "#time=range(1,13,1)\n",
    "ax.set_xticks(range(1,13,1))\n",
    "ax.set_xticklabels(time)\n",
    "ax.tick_params(labelsize=15)\n",
    "ax.set_xlabel(\"Month\", fontsize=25)\n",
    "ax.set_ylabel(\"Count\", fontsize=25)\n",
    "ax.set_title(\"Count of Bags for each Month\", fontsize=40)\n",
    "\n",
    "fig.show()\n",
    "#to do\n",
    "#color-code bars by season\n",
    "#subscripts #no of bags"
   ]
  },
  {
   "cell_type": "code",
   "execution_count": 54,
   "metadata": {},
   "outputs": [
    {
     "name": "stderr",
     "output_type": "stream",
     "text": [
      "C:\\Users\\oyino\\Anaconda3\\lib\\site-packages\\ipykernel_launcher.py:42: UserWarning: Matplotlib is currently using module://ipykernel.pylab.backend_inline, which is a non-GUI backend, so cannot show the figure.\n"
     ]
    },
    {
     "data": {
      "image/png": "[encoded data removed]",
      "text/plain": [
       "<Figure size 720x720 with 1 Axes>"
      ]
     },
     "metadata": {
      "needs_background": "light"
     },
     "output_type": "display_data"
    }
   ],
   "source": [
    "fig, ax = plt.subplots(figsize=(10,10))\n",
    "#color=['red'] + ['green']*3 + ['blue']*3 + ['yellow']*3 +['red']*2\n",
    "from matplotlib.patches import Patch\n",
    "\n",
    "color=dict.fromkeys(winter, 'blue')\n",
    "color.update(dict.fromkeys(spring, 'yellow'))\n",
    "color.update(dict.fromkeys(summer, 'orange'))\n",
    "color.update(dict.fromkeys(autumn, 'brown'))\n",
    "colours={'winter': 'blue', 'spring':'yellow', 'summer':'orange', 'autumn':'brown'}\n",
    "\n",
    "time=['Jan', 'Feb', 'Mar', 'Apr', 'May', 'Jun', 'Jul', 'Aug', 'Sep', 'Oct', 'Nov', 'Dec']\n",
    "color={k:color[k] for k in time}\n",
    "\n",
    "im=ax.bar(month.keys(), month.values(), color=color.values())\n",
    "\n",
    "\n",
    "handlesleg=[\n",
    "    Patch(color='blue', label='winter'),\n",
    "    Patch(color='yellow', label='spring'),\n",
    "    Patch(color='orange', label='summer'),\n",
    "    Patch(color='brown', label='autumn')\n",
    "]\n",
    "plt.legend(handles=handlesleg)\n",
    "#time=range(1,13,1)\n",
    "ax.set_xticks(range(1,13,1))\n",
    "ax.set_xticklabels(time)\n",
    "ax.tick_params(labelsize=15)\n",
    "ax.set_xlabel(\"Month\", fontsize=25)\n",
    "ax.set_ylabel(\"Count\", fontsize=25)\n",
    "ax.set_title(\"Count of Bags for each Month\", fontsize=40)\n",
    "\n",
    "def autolabel(rects):\n",
    "    for rect in rects:\n",
    "        height = rect.get_height()\n",
    "        ax.annotate('{}'.format(height),\n",
    "                    xy=(rect.get_x() + rect.get_width() / 2, height),\n",
    "                    xytext=(0, 3),\n",
    "                    textcoords=\"offset points\",\n",
    "                    ha='center', va='bottom')\n",
    "\n",
    "autolabel(im)\n",
    "fig.show()\n",
    "#to do\n",
    "#color-code bars by season\n",
    "#subscripts #no of bags"
   ]
  },
  {
   "cell_type": "markdown",
   "metadata": {},
   "source": [
    "# Prediction"
   ]
  },
  {
   "cell_type": "code",
   "execution_count": 55,
   "metadata": {},
   "outputs": [],
   "source": [
    "y=df.pop('Booked').values\n",
    "df.pop('QuantityBooked')\n",
    "X=df.values\n"
   ]
  },
  {
   "cell_type": "code",
   "execution_count": 56,
   "metadata": {},
   "outputs": [
    {
     "data": {
      "text/plain": [
       "(10000,)"
      ]
     },
     "execution_count": 56,
     "metadata": {},
     "output_type": "execute_result"
    }
   ],
   "source": [
    "X.shape\n",
    "y.shape"
   ]
  },
  {
   "cell_type": "code",
   "execution_count": 57,
   "metadata": {},
   "outputs": [],
   "source": [
    "from collections import Counter"
   ]
  },
  {
   "cell_type": "code",
   "execution_count": 58,
   "metadata": {},
   "outputs": [
    {
     "name": "stdout",
     "output_type": "stream",
     "text": [
      "Minority class : 0.13\n"
     ]
    }
   ],
   "source": [
    "print(\"Minority class : %0.2f\" % (Counter(y)[1]/len(y)))"
   ]
  },
  {
   "cell_type": "code",
   "execution_count": 327,
   "metadata": {},
   "outputs": [],
   "source": [
    "from sklearn.model_selection import train_test_split\n",
    "from sklearn.decomposition import PCA\n",
    "from sklearn.linear_model import LogisticRegression\n",
    "from sklearn.metrics import classification_report, accuracy_score, confusion_matrix, roc_auc_score\n",
    "from sklearn.model_selection import cross_val_score, KFold\n",
    "from sklearn.ensemble import GradientBoostingClassifier\n",
    "from sklearn.tree import DecisionTreeClassifier\n"
   ]
  },
  {
   "cell_type": "code",
   "execution_count": 328,
   "metadata": {},
   "outputs": [],
   "source": [
    "X_train, X_test, y_train, y_test = train_test_split(X, y, test_size = 0.2, random_state = 0)"
   ]
  },
  {
   "cell_type": "code",
   "execution_count": 329,
   "metadata": {},
   "outputs": [],
   "source": [
    "from sklearn.preprocessing import MinMaxScaler\n",
    "scaler=MinMaxScaler()\n",
    "scaler.fit(X_train)\n",
    "X_train=scaler.transform(X_train)\n",
    "X_test=scaler.transform(X_test)"
   ]
  },
  {
   "cell_type": "code",
   "execution_count": 330,
   "metadata": {},
   "outputs": [],
   "source": [
    "from sklearn.utils import shuffle"
   ]
  },
  {
   "cell_type": "code",
   "execution_count": 331,
   "metadata": {},
   "outputs": [],
   "source": [
    "X_train, y_train = shuffle(X_train, y_train)"
   ]
  },
  {
   "cell_type": "markdown",
   "metadata": {},
   "source": [
    "# Neural Network "
   ]
  },
  {
   "cell_type": "code",
   "execution_count": 332,
   "metadata": {},
   "outputs": [],
   "source": [
    "#pip install pygame"
   ]
  },
  {
   "cell_type": "code",
   "execution_count": 333,
   "metadata": {},
   "outputs": [],
   "source": [
    "import torch"
   ]
  },
  {
   "cell_type": "code",
   "execution_count": 334,
   "metadata": {},
   "outputs": [],
   "source": [
    "import torch.nn as nn"
   ]
  },
  {
   "cell_type": "code",
   "execution_count": 335,
   "metadata": {},
   "outputs": [],
   "source": [
    "from torch.utils.data import TensorDataset, DataLoader"
   ]
  },
  {
   "cell_type": "code",
   "execution_count": null,
   "metadata": {},
   "outputs": [],
   "source": []
  },
  {
   "cell_type": "markdown",
   "metadata": {},
   "source": [
    "## SMOTE => Bias"
   ]
  },
  {
   "cell_type": "code",
   "execution_count": 336,
   "metadata": {},
   "outputs": [],
   "source": [
    "from imblearn.over_sampling import SMOTE\n",
    "from imblearn.pipeline import Pipeline\n",
    "from imblearn.under_sampling import RandomUnderSampler"
   ]
  },
  {
   "cell_type": "code",
   "execution_count": 337,
   "metadata": {},
   "outputs": [],
   "source": [
    "sm = SMOTE(random_state=42, sampling_strategy=1)\n",
    "X_train_res, y_train_res = sm.fit_sample(X_train, y_train)"
   ]
  },
  {
   "cell_type": "code",
   "execution_count": 338,
   "metadata": {},
   "outputs": [
    {
     "data": {
      "text/plain": [
       "(6940,)"
      ]
     },
     "execution_count": 338,
     "metadata": {},
     "output_type": "execute_result"
    }
   ],
   "source": [
    "y_train_res[y_train_res==1].shape"
   ]
  },
  {
   "cell_type": "code",
   "execution_count": 339,
   "metadata": {},
   "outputs": [],
   "source": [
    "import torch\n",
    "import torch.nn as nn\n",
    "import torch.optim as optim\n",
    "import torch.nn.functional as F"
   ]
  },
  {
   "cell_type": "code",
   "execution_count": 340,
   "metadata": {},
   "outputs": [
    {
     "data": {
      "text/plain": [
       "(8000, 497)"
      ]
     },
     "execution_count": 340,
     "metadata": {},
     "output_type": "execute_result"
    }
   ],
   "source": [
    "X_train.shape"
   ]
  },
  {
   "cell_type": "code",
   "execution_count": 341,
   "metadata": {},
   "outputs": [
    {
     "data": {
      "text/plain": [
       "numpy.ndarray"
      ]
     },
     "execution_count": 341,
     "metadata": {},
     "output_type": "execute_result"
    }
   ],
   "source": [
    "type(X_train)"
   ]
  },
  {
   "cell_type": "code",
   "execution_count": 342,
   "metadata": {},
   "outputs": [],
   "source": [
    "X_train_new = torch.from_numpy(X_train_res).float()\n",
    "y_train_new = torch.squeeze(torch.from_numpy(y_train_res).float())\n",
    "X_test_new = torch.from_numpy(X_test).float()\n",
    "y_test_new = torch.squeeze(torch.from_numpy(y_test).float())"
   ]
  },
  {
   "cell_type": "code",
   "execution_count": 343,
   "metadata": {},
   "outputs": [],
   "source": [
    "#y_train_new[y_train_new==1].shape\n"
   ]
  },
  {
   "cell_type": "code",
   "execution_count": 344,
   "metadata": {
    "scrolled": true
   },
   "outputs": [
    {
     "name": "stdout",
     "output_type": "stream",
     "text": [
      "torch.Size([13880, 497]) torch.Size([13880])\n",
      "torch.Size([2000, 497]) torch.Size([2000])\n"
     ]
    }
   ],
   "source": [
    "print(X_train_new.shape, y_train_new.shape)\n",
    "print(X_test_new.shape, y_test_new.shape)"
   ]
  },
  {
   "cell_type": "code",
   "execution_count": 345,
   "metadata": {},
   "outputs": [],
   "source": [
    "n_input_dim=X_train_new.shape[1] #= the number of features\n",
    "n_hidden =8\n",
    "n_output = 1"
   ]
  },
  {
   "cell_type": "code",
   "execution_count": 346,
   "metadata": {},
   "outputs": [],
   "source": [
    "class Net(nn.Module):\n",
    "    def __init__(self, n_input_dim):\n",
    "        super(Net, self).__init__()\n",
    "        self.fc1 = nn.Linear(n_input_dim, 64)\n",
    "        self.fc2 = nn.Linear(64, 64)\n",
    "        self.fc3 = nn.Linear(64, 1)\n",
    "        \n",
    "    def forward(self, x):\n",
    "        x = F.relu(self.fc1(x))\n",
    "        x = F.relu(self.fc2(x))\n",
    "        return torch.sigmoid(self.fc3(x))"
   ]
  },
  {
   "cell_type": "code",
   "execution_count": 347,
   "metadata": {},
   "outputs": [],
   "source": [
    "net=Net(n_input_dim)\n",
    "#print(net)"
   ]
  },
  {
   "cell_type": "code",
   "execution_count": 348,
   "metadata": {},
   "outputs": [],
   "source": [
    "optimizer = optim.Adam(net.parameters(), lr=0.001)\n",
    "criterion = nn.BCELoss()\n",
    "#criterion = nn.CrossEntropyLoss()"
   ]
  },
  {
   "cell_type": "code",
   "execution_count": 349,
   "metadata": {},
   "outputs": [],
   "source": [
    "from sklearn import metrics"
   ]
  },
  {
   "cell_type": "code",
   "execution_count": 350,
   "metadata": {},
   "outputs": [],
   "source": [
    "device = torch.device(\"cuda:0\" if torch.cuda.is_available() else \"cpu\")\n",
    "X_train_new = X_train_new.to(device)\n",
    "y_train_new = y_train_new.to(device)\n",
    "X_test_new = X_test_new.to(device)\n",
    "y_test_new = y_test_new.to(device)\n",
    "net = net.to(device)\n",
    "criterion = criterion.to(device)"
   ]
  },
  {
   "cell_type": "code",
   "execution_count": 351,
   "metadata": {},
   "outputs": [
    {
     "data": {
      "text/plain": [
       "torch.Size([6940])"
      ]
     },
     "execution_count": 351,
     "metadata": {},
     "output_type": "execute_result"
    }
   ],
   "source": [
    "y_train_new[y_train_new==0].shape"
   ]
  },
  {
   "cell_type": "code",
   "execution_count": 352,
   "metadata": {},
   "outputs": [],
   "source": [
    "def calculate_accuracy(y_true, y_pred):\n",
    "    predicted = y_pred.ge(.5).view(-1)\n",
    "    return (y_true == predicted).sum().float() / len(y_true)"
   ]
  },
  {
   "cell_type": "code",
   "execution_count": 353,
   "metadata": {},
   "outputs": [],
   "source": [
    "def round_tensor(t, decimal_places=3):\n",
    "    return round(t.item(), decimal_places)"
   ]
  },
  {
   "cell_type": "code",
   "execution_count": 354,
   "metadata": {
    "collapsed": true
   },
   "outputs": [
    {
     "name": "stdout",
     "output_type": "stream",
     "text": [
      "<class 'torch.Tensor'>\n",
      "<class 'numpy.float64'>\n",
      "epoch 0\n",
      "Train set - loss: 0.693, accuracy: 0.495\n",
      "Test  set - loss: 0.712, accuracy: 0.5\n",
      "\n",
      "<class 'torch.Tensor'>\n",
      "<class 'numpy.float64'>\n",
      "epoch 100\n",
      "Train set - loss: 0.412, accuracy: 0.904\n",
      "Test  set - loss: 0.565, accuracy: 0.633\n",
      "\n",
      "<class 'torch.Tensor'>\n",
      "<class 'numpy.float64'>\n",
      "epoch 200\n",
      "Train set - loss: 0.112, accuracy: 0.995\n",
      "Test  set - loss: 0.663, accuracy: 0.607\n",
      "\n",
      "<class 'torch.Tensor'>\n",
      "<class 'numpy.float64'>\n",
      "epoch 300\n",
      "Train set - loss: 0.041, accuracy: 1.0\n",
      "Test  set - loss: 0.919, accuracy: 0.599\n",
      "\n",
      "<class 'torch.Tensor'>\n",
      "<class 'numpy.float64'>\n",
      "epoch 400\n",
      "Train set - loss: 0.021, accuracy: 1.0\n",
      "Test  set - loss: 1.142, accuracy: 0.597\n",
      "\n",
      "<class 'torch.Tensor'>\n",
      "<class 'numpy.float64'>\n",
      "epoch 500\n",
      "Train set - loss: 0.013, accuracy: 1.0\n",
      "Test  set - loss: 1.327, accuracy: 0.594\n",
      "\n",
      "<class 'torch.Tensor'>\n",
      "<class 'numpy.float64'>\n",
      "epoch 600\n",
      "Train set - loss: 0.01, accuracy: 1.0\n",
      "Test  set - loss: 1.515, accuracy: 0.593\n",
      "\n",
      "<class 'torch.Tensor'>\n",
      "<class 'numpy.float64'>\n",
      "epoch 700\n",
      "Train set - loss: 0.007, accuracy: 1.0\n",
      "Test  set - loss: 1.763, accuracy: 0.592\n",
      "\n",
      "<class 'torch.Tensor'>\n",
      "<class 'numpy.float64'>\n",
      "epoch 800\n",
      "Train set - loss: 0.006, accuracy: 1.0\n",
      "Test  set - loss: 1.952, accuracy: 0.592\n",
      "\n",
      "<class 'torch.Tensor'>\n",
      "<class 'numpy.float64'>\n",
      "epoch 900\n",
      "Train set - loss: 0.005, accuracy: 1.0\n",
      "Test  set - loss: 2.045, accuracy: 0.592\n",
      "\n"
     ]
    }
   ],
   "source": [
    "EPOCHS = 1000\n",
    "for epoch in range(EPOCHS):\n",
    "    y_pred =torch.squeeze(net(X_train_new))\n",
    "   \n",
    "    #y_pred=net(X_train_new)\n",
    "    #print(y_pred.shape)\n",
    "    train_loss = criterion(y_pred, y_train_new)\n",
    "    \n",
    "    if epoch % 100 == 0:\n",
    "        #train_acc = calculate_accuracy(y_train_new, y_pred)\n",
    "        train_acc = metrics.roc_auc_score(y_train_new.detach().numpy(), y_pred.detach().numpy())\n",
    "        y_test_pred = net(X_test_new)\n",
    "        \n",
    "        y_test_pred = torch.squeeze(y_test_pred)\n",
    "        #print(y_test_pred)\n",
    "        test_loss = criterion(y_test_pred, y_test_new)\n",
    "        print(type(train_loss))\n",
    "        #test_acc = calculate_accuracy(y_test_new, y_test_pred)\n",
    "        test_acc = metrics.roc_auc_score(y_test_new.detach().numpy(), y_test_pred.detach().numpy())\n",
    "        print(type(test_acc))\n",
    "        print(f'''epoch {epoch}\n",
    "Train set - loss: {round_tensor(train_loss)}, accuracy: {round_tensor(train_acc)}\n",
    "Test  set - loss: {round_tensor(test_loss)}, accuracy: {round_tensor(test_acc)}\n",
    "''')\n",
    "        \n",
    "    optimizer.zero_grad()\n",
    "    \n",
    "    train_loss.backward()\n",
    "    \n",
    "    optimizer.step()"
   ]
  }
 ],
 "metadata": {
  "kernelspec": {
   "display_name": "Python 3",
   "language": "python",
   "name": "python3"
  },
  "language_info": {
   "codemirror_mode": {
    "name": "ipython",
    "version": 3
   },
   "file_extension": ".py",
   "mimetype": "text/x-python",
   "name": "python",
   "nbconvert_exporter": "python",
   "pygments_lexer": "ipython3",
   "version": "3.7.3"
  }
 },
 "nbformat": 4,
 "nbformat_minor": 2
}
