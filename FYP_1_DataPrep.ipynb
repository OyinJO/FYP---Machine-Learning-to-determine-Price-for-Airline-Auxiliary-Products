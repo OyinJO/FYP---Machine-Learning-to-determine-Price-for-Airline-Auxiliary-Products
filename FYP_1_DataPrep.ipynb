{
 "cells": [
  {
   "cell_type": "code",
   "execution_count": 1,
   "metadata": {},
   "outputs": [],
   "source": [
    "import importlib\n",
    "import matplotlib.pyplot as mp\n",
    "import numpy as np\n",
    "\n",
    "%matplotlib inline\n",
    "\n",
    "from sklearn import tree\n",
    "from sklearn.tree import export_graphviz\n",
    "import graphviz\n",
    "\n",
    "\n"
   ]
  },
  {
   "cell_type": "code",
   "execution_count": 2,
   "metadata": {},
   "outputs": [],
   "source": [
    "import pandas as pd"
   ]
  },
  {
   "cell_type": "code",
   "execution_count": 3,
   "metadata": {},
   "outputs": [],
   "source": [
    "def get_data(filename, comma):\n",
    "    \n",
    "    if comma:\n",
    "        df = pd.read_csv(filename)\n",
    "    else:\n",
    "        df = pd.read_csv(filename, sep=';')\n",
    "    return df"
   ]
  },
  {
   "cell_type": "code",
   "execution_count": 4,
   "metadata": {},
   "outputs": [],
   "source": [
    "bagsdf = get_data('testdata.csv', True)\n"
   ]
  },
  {
   "cell_type": "code",
   "execution_count": 5,
   "metadata": {},
   "outputs": [
    {
     "data": {
      "text/html": [
       "<div>\n",
       "<style scoped>\n",
       "    .dataframe tbody tr th:only-of-type {\n",
       "        vertical-align: middle;\n",
       "    }\n",
       "\n",
       "    .dataframe tbody tr th {\n",
       "        vertical-align: top;\n",
       "    }\n",
       "\n",
       "    .dataframe thead th {\n",
       "        text-align: right;\n",
       "    }\n",
       "</style>\n",
       "<table border=\"1\" class=\"dataframe\">\n",
       "  <thead>\n",
       "    <tr style=\"text-align: right;\">\n",
       "      <th></th>\n",
       "      <th>Unnamed: 0</th>\n",
       "      <th>MinLoggedUTC</th>\n",
       "      <th>MaxExternalBookingID</th>\n",
       "      <th>PaxType</th>\n",
       "      <th>ChannelID</th>\n",
       "      <th>RoleName</th>\n",
       "      <th>TripOriginLocationCode</th>\n",
       "      <th>TripDestinationLocationCode</th>\n",
       "      <th>NumberOfPassengers</th>\n",
       "      <th>FareClass</th>\n",
       "      <th>...</th>\n",
       "      <th>TreatmentRanked</th>\n",
       "      <th>TreatmentIDBook</th>\n",
       "      <th>QuantityBooked</th>\n",
       "      <th>FinalStage</th>\n",
       "      <th>ProductID</th>\n",
       "      <th>ProductName</th>\n",
       "      <th>Amount</th>\n",
       "      <th>OriginalPrice</th>\n",
       "      <th>Role_Type</th>\n",
       "      <th>Price_Type</th>\n",
       "    </tr>\n",
       "  </thead>\n",
       "  <tbody>\n",
       "    <tr>\n",
       "      <th>0</th>\n",
       "      <td>0</td>\n",
       "      <td>7/1/2019 12:00:25 AM</td>\n",
       "      <td>95612682</td>\n",
       "      <td>ADT</td>\n",
       "      <td>2</td>\n",
       "      <td>WWWM</td>\n",
       "      <td>RDU</td>\n",
       "      <td>DTW</td>\n",
       "      <td>2</td>\n",
       "      <td>Z</td>\n",
       "      <td>...</td>\n",
       "      <td>2</td>\n",
       "      <td>0</td>\n",
       "      <td>0</td>\n",
       "      <td>0</td>\n",
       "      <td>78</td>\n",
       "      <td>BAG1</td>\n",
       "      <td>33.0</td>\n",
       "      <td>30.0</td>\n",
       "      <td>INITIAL</td>\n",
       "      <td>CONTROL</td>\n",
       "    </tr>\n",
       "    <tr>\n",
       "      <th>1</th>\n",
       "      <td>1</td>\n",
       "      <td>7/1/2019 12:00:25 AM</td>\n",
       "      <td>95612682</td>\n",
       "      <td>ADT</td>\n",
       "      <td>2</td>\n",
       "      <td>WWWM</td>\n",
       "      <td>RDU</td>\n",
       "      <td>DTW</td>\n",
       "      <td>2</td>\n",
       "      <td>Z</td>\n",
       "      <td>...</td>\n",
       "      <td>2</td>\n",
       "      <td>0</td>\n",
       "      <td>0</td>\n",
       "      <td>0</td>\n",
       "      <td>84</td>\n",
       "      <td>COB1</td>\n",
       "      <td>36.0</td>\n",
       "      <td>25.0</td>\n",
       "      <td>INITIAL</td>\n",
       "      <td>CONTROL</td>\n",
       "    </tr>\n",
       "    <tr>\n",
       "      <th>2</th>\n",
       "      <td>2</td>\n",
       "      <td>7/1/2019 12:00:28 AM</td>\n",
       "      <td>95612977</td>\n",
       "      <td>ADT</td>\n",
       "      <td>2</td>\n",
       "      <td>TCMM</td>\n",
       "      <td>DEN</td>\n",
       "      <td>HRL</td>\n",
       "      <td>2</td>\n",
       "      <td>W</td>\n",
       "      <td>...</td>\n",
       "      <td>1</td>\n",
       "      <td>0</td>\n",
       "      <td>0</td>\n",
       "      <td>0</td>\n",
       "      <td>78</td>\n",
       "      <td>BAG1</td>\n",
       "      <td>37.0</td>\n",
       "      <td>30.0</td>\n",
       "      <td>INITIAL</td>\n",
       "      <td>DISCOUNT</td>\n",
       "    </tr>\n",
       "    <tr>\n",
       "      <th>3</th>\n",
       "      <td>3</td>\n",
       "      <td>7/1/2019 12:00:28 AM</td>\n",
       "      <td>95612977</td>\n",
       "      <td>ADT</td>\n",
       "      <td>2</td>\n",
       "      <td>TCMM</td>\n",
       "      <td>DEN</td>\n",
       "      <td>HRL</td>\n",
       "      <td>2</td>\n",
       "      <td>W</td>\n",
       "      <td>...</td>\n",
       "      <td>1</td>\n",
       "      <td>0</td>\n",
       "      <td>0</td>\n",
       "      <td>0</td>\n",
       "      <td>84</td>\n",
       "      <td>COB1</td>\n",
       "      <td>34.0</td>\n",
       "      <td>25.0</td>\n",
       "      <td>INITIAL</td>\n",
       "      <td>DISCOUNT</td>\n",
       "    </tr>\n",
       "    <tr>\n",
       "      <th>4</th>\n",
       "      <td>4</td>\n",
       "      <td>7/1/2019 12:00:28 AM</td>\n",
       "      <td>95612977</td>\n",
       "      <td>ADT</td>\n",
       "      <td>2</td>\n",
       "      <td>TCMM</td>\n",
       "      <td>DEN</td>\n",
       "      <td>HRL</td>\n",
       "      <td>2</td>\n",
       "      <td>W</td>\n",
       "      <td>...</td>\n",
       "      <td>2</td>\n",
       "      <td>0</td>\n",
       "      <td>0</td>\n",
       "      <td>0</td>\n",
       "      <td>78</td>\n",
       "      <td>BAG1</td>\n",
       "      <td>29.0</td>\n",
       "      <td>30.0</td>\n",
       "      <td>INITIAL</td>\n",
       "      <td>DISCOUNT</td>\n",
       "    </tr>\n",
       "  </tbody>\n",
       "</table>\n",
       "<p>5 rows × 32 columns</p>\n",
       "</div>"
      ],
      "text/plain": [
       "   Unnamed: 0          MinLoggedUTC  MaxExternalBookingID PaxType  ChannelID  \\\n",
       "0           0  7/1/2019 12:00:25 AM              95612682     ADT          2   \n",
       "1           1  7/1/2019 12:00:25 AM              95612682     ADT          2   \n",
       "2           2  7/1/2019 12:00:28 AM              95612977     ADT          2   \n",
       "3           3  7/1/2019 12:00:28 AM              95612977     ADT          2   \n",
       "4           4  7/1/2019 12:00:28 AM              95612977     ADT          2   \n",
       "\n",
       "  RoleName TripOriginLocationCode TripDestinationLocationCode  \\\n",
       "0     WWWM                    RDU                         DTW   \n",
       "1     WWWM                    RDU                         DTW   \n",
       "2     TCMM                    DEN                         HRL   \n",
       "3     TCMM                    DEN                         HRL   \n",
       "4     TCMM                    DEN                         HRL   \n",
       "\n",
       "   NumberOfPassengers FareClass  ...  TreatmentRanked  TreatmentIDBook  \\\n",
       "0                   2         Z  ...                2                0   \n",
       "1                   2         Z  ...                2                0   \n",
       "2                   2         W  ...                1                0   \n",
       "3                   2         W  ...                1                0   \n",
       "4                   2         W  ...                2                0   \n",
       "\n",
       "  QuantityBooked FinalStage ProductID ProductName Amount  OriginalPrice  \\\n",
       "0              0          0        78        BAG1   33.0           30.0   \n",
       "1              0          0        84        COB1   36.0           25.0   \n",
       "2              0          0        78        BAG1   37.0           30.0   \n",
       "3              0          0        84        COB1   34.0           25.0   \n",
       "4              0          0        78        BAG1   29.0           30.0   \n",
       "\n",
       "  Role_Type Price_Type  \n",
       "0   INITIAL    CONTROL  \n",
       "1   INITIAL    CONTROL  \n",
       "2   INITIAL   DISCOUNT  \n",
       "3   INITIAL   DISCOUNT  \n",
       "4   INITIAL   DISCOUNT  \n",
       "\n",
       "[5 rows x 32 columns]"
      ]
     },
     "execution_count": 5,
     "metadata": {},
     "output_type": "execute_result"
    }
   ],
   "source": [
    "bagsdf.head()"
   ]
  },
  {
   "cell_type": "code",
   "execution_count": 6,
   "metadata": {},
   "outputs": [],
   "source": [
    "bagsdf.drop(\"Unnamed: 0\", axis=1, inplace=True)"
   ]
  },
  {
   "cell_type": "code",
   "execution_count": 7,
   "metadata": {},
   "outputs": [
    {
     "data": {
      "text/plain": [
       "Index(['MinLoggedUTC', 'MaxExternalBookingID', 'PaxType', 'ChannelID',\n",
       "       'RoleName', 'TripOriginLocationCode', 'TripDestinationLocationCode',\n",
       "       'NumberOfPassengers', 'FareClass', 'TripType', 'TreatmentRank',\n",
       "       'SegmentOriginLocationCode', 'SegmentDestinationLocationCode',\n",
       "       'TripReturnTravelDate', 'TripFirstTravelDate', 'SegmentFirstTravelDate',\n",
       "       'TotalFare', 'JourneySalesDate', 'AgeOfPassengersArray',\n",
       "       'FirstPaxProgramLevel', 'TreatmentProductSequence', 'TreatmentRanked',\n",
       "       'TreatmentIDBook', 'QuantityBooked', 'FinalStage', 'ProductID',\n",
       "       'ProductName', 'Amount', 'OriginalPrice', 'Role_Type', 'Price_Type'],\n",
       "      dtype='object')"
      ]
     },
     "execution_count": 7,
     "metadata": {},
     "output_type": "execute_result"
    }
   ],
   "source": [
    "bagsdf.columns"
   ]
  },
  {
   "cell_type": "code",
   "execution_count": null,
   "metadata": {},
   "outputs": [],
   "source": []
  },
  {
   "cell_type": "markdown",
   "metadata": {},
   "source": [
    "# Feature Engineering"
   ]
  },
  {
   "cell_type": "markdown",
   "metadata": {},
   "source": [
    "### Fortnight Stay \n",
    "- Feature for if duration of trip is greater than 14 days"
   ]
  },
  {
   "cell_type": "code",
   "execution_count": 8,
   "metadata": {},
   "outputs": [],
   "source": [
    "def fortnightDuration(firstTravelDate, returnTravelDate):\n",
    "    \n",
    "    firstTravel= datetime.datetime.strptime(firstTravelDate.split(' ')[0], '%m/%d/%Y')\n",
    "    returnTravel= 0\n",
    "    if isinstance(returnTravelDate,str):\n",
    "        returnTravel= datetime.datetime.strptime(returnTravelDate.split(' ')[0], '%m/%d/%Y') \n",
    "    if(returnTravel!=0):\n",
    "        elapsed_time= returnTravel-firstTravel\n",
    "        duration_val= (1 if((abs(elapsed_time.days))>= 14 ) else 0)\n",
    "                       \n",
    "    else:\n",
    "        duration_val=0\n",
    "        \n",
    "    return duration_val"
   ]
  },
  {
   "cell_type": "code",
   "execution_count": 9,
   "metadata": {},
   "outputs": [],
   "source": [
    "bagsdf['FortnightStay']=pd.Series()"
   ]
  },
  {
   "cell_type": "code",
   "execution_count": 10,
   "metadata": {},
   "outputs": [],
   "source": [
    "bagsdf['FortnightStay']= list(map(fortnightDuration,bagsdf['TripFirstTravelDate'], bagsdf['TripReturnTravelDate']))"
   ]
  },
  {
   "cell_type": "code",
   "execution_count": 11,
   "metadata": {},
   "outputs": [
    {
     "data": {
      "text/plain": [
       "0    9710\n",
       "1     290\n",
       "Name: FortnightStay, dtype: int64"
      ]
     },
     "execution_count": 11,
     "metadata": {},
     "output_type": "execute_result"
    }
   ],
   "source": [
    "bagsdf['FortnightStay'].value_counts()"
   ]
  },
  {
   "cell_type": "markdown",
   "metadata": {},
   "source": [
    "### Round Trip \n",
    "- Whether the booking is round trip or one way \n",
    "- If TripOriginLocationCode == SegmentDestinationLocationCode"
   ]
  },
  {
   "cell_type": "code",
   "execution_count": 12,
   "metadata": {},
   "outputs": [
    {
     "data": {
      "text/html": [
       "<div>\n",
       "<style scoped>\n",
       "    .dataframe tbody tr th:only-of-type {\n",
       "        vertical-align: middle;\n",
       "    }\n",
       "\n",
       "    .dataframe tbody tr th {\n",
       "        vertical-align: top;\n",
       "    }\n",
       "\n",
       "    .dataframe thead th {\n",
       "        text-align: right;\n",
       "    }\n",
       "</style>\n",
       "<table border=\"1\" class=\"dataframe\">\n",
       "  <thead>\n",
       "    <tr style=\"text-align: right;\">\n",
       "      <th></th>\n",
       "      <th>TripOriginLocationCode</th>\n",
       "      <th>TripDestinationLocationCode</th>\n",
       "      <th>SegmentOriginLocationCode</th>\n",
       "      <th>SegmentDestinationLocationCode</th>\n",
       "    </tr>\n",
       "  </thead>\n",
       "  <tbody>\n",
       "    <tr>\n",
       "      <th>0</th>\n",
       "      <td>RDU</td>\n",
       "      <td>DTW</td>\n",
       "      <td>RDU</td>\n",
       "      <td>DTW</td>\n",
       "    </tr>\n",
       "    <tr>\n",
       "      <th>1</th>\n",
       "      <td>RDU</td>\n",
       "      <td>DTW</td>\n",
       "      <td>RDU</td>\n",
       "      <td>DTW</td>\n",
       "    </tr>\n",
       "    <tr>\n",
       "      <th>2</th>\n",
       "      <td>DEN</td>\n",
       "      <td>HRL</td>\n",
       "      <td>HRL</td>\n",
       "      <td>DEN</td>\n",
       "    </tr>\n",
       "    <tr>\n",
       "      <th>3</th>\n",
       "      <td>DEN</td>\n",
       "      <td>HRL</td>\n",
       "      <td>HRL</td>\n",
       "      <td>DEN</td>\n",
       "    </tr>\n",
       "    <tr>\n",
       "      <th>4</th>\n",
       "      <td>DEN</td>\n",
       "      <td>HRL</td>\n",
       "      <td>DEN</td>\n",
       "      <td>HRL</td>\n",
       "    </tr>\n",
       "  </tbody>\n",
       "</table>\n",
       "</div>"
      ],
      "text/plain": [
       "  TripOriginLocationCode TripDestinationLocationCode  \\\n",
       "0                    RDU                         DTW   \n",
       "1                    RDU                         DTW   \n",
       "2                    DEN                         HRL   \n",
       "3                    DEN                         HRL   \n",
       "4                    DEN                         HRL   \n",
       "\n",
       "  SegmentOriginLocationCode SegmentDestinationLocationCode  \n",
       "0                       RDU                            DTW  \n",
       "1                       RDU                            DTW  \n",
       "2                       HRL                            DEN  \n",
       "3                       HRL                            DEN  \n",
       "4                       DEN                            HRL  "
      ]
     },
     "execution_count": 12,
     "metadata": {},
     "output_type": "execute_result"
    }
   ],
   "source": [
    "bagsdf[['TripOriginLocationCode', 'TripDestinationLocationCode','SegmentOriginLocationCode', 'SegmentDestinationLocationCode']].head()"
   ]
  },
  {
   "cell_type": "code",
   "execution_count": 13,
   "metadata": {},
   "outputs": [],
   "source": [
    "bagsdf['roundTrip']=pd.Series()"
   ]
  },
  {
   "cell_type": "code",
   "execution_count": 14,
   "metadata": {},
   "outputs": [],
   "source": [
    "def equalDest(col1, col2):\n",
    "    if(col1==col2):\n",
    "        return 1\n",
    "    else:\n",
    "        return 0\n",
    "   "
   ]
  },
  {
   "cell_type": "code",
   "execution_count": 15,
   "metadata": {},
   "outputs": [],
   "source": [
    "bagsdf['roundTrip'] = list(map(equalDest,bagsdf['TripOriginLocationCode'], bagsdf['SegmentDestinationLocationCode']))"
   ]
  },
  {
   "cell_type": "code",
   "execution_count": 16,
   "metadata": {},
   "outputs": [
    {
     "data": {
      "text/plain": [
       "0    7026\n",
       "1    2974\n",
       "Name: roundTrip, dtype: int64"
      ]
     },
     "execution_count": 16,
     "metadata": {},
     "output_type": "execute_result"
    }
   ],
   "source": [
    "bagsdf['roundTrip'].value_counts()"
   ]
  },
  {
   "cell_type": "markdown",
   "metadata": {},
   "source": [
    "### SatNightStay\n",
    "- If the trip involves a stay on a saturday"
   ]
  },
  {
   "cell_type": "code",
   "execution_count": 17,
   "metadata": {},
   "outputs": [],
   "source": [
    "def getDuration(firstTravelDate, returnTravelDate):\n",
    "    \n",
    "    firstTravel= datetime.datetime.strptime(firstTravelDate.split(' ')[0], '%m/%d/%Y')\n",
    "    returnTravel= 0\n",
    "    \n",
    "    if isinstance(returnTravelDate,str):\n",
    "        returnTravel= datetime.datetime.strptime(returnTravelDate.split(' ')[0], '%m/%d/%Y') \n",
    "        \n",
    "    if(returnTravel!=0):\n",
    "        elapsed_time= abs((returnTravel-firstTravel).days)\n",
    "        \n",
    "    else:\n",
    "        elapsed_time=8\n",
    "        \n",
    "    return elapsed_time, firstTravel, returnTravel;"
   ]
  },
  {
   "cell_type": "code",
   "execution_count": 18,
   "metadata": {},
   "outputs": [],
   "source": [
    "def dayStay(firstTravelDate, returnTravelDate, dayNum):\n",
    "    Stayed=0\n",
    "    dayNum=int(dayNum)\n",
    "    #if length of stay is a week or more \n",
    "    duration, firstTravel, returnTravel = getDuration(firstTravelDate, returnTravelDate) \n",
    "    if (duration > 7):\n",
    "        Stayed =1\n",
    "    else:\n",
    "        #increase the date until we get to return Travel Date\n",
    "        for i in range(duration+1):\n",
    "            if ((firstTravel+datetime.timedelta(days=i)).weekday()==dayNum):\n",
    "                Stayed = 1\n",
    "                             \n",
    "    return Stayed"
   ]
  },
  {
   "cell_type": "code",
   "execution_count": 19,
   "metadata": {},
   "outputs": [],
   "source": [
    "bagsdf['SatStay']=pd.Series()"
   ]
  },
  {
   "cell_type": "code",
   "execution_count": 20,
   "metadata": {},
   "outputs": [],
   "source": [
    "dayNum=5\n",
    "bagsdf['SatStay']= [dayStay(bagsdf['TripFirstTravelDate'][i], bagsdf['TripReturnTravelDate'][i], 5) for i in bagsdf.index]"
   ]
  },
  {
   "cell_type": "code",
   "execution_count": 21,
   "metadata": {},
   "outputs": [
    {
     "data": {
      "text/plain": [
       "1    9295\n",
       "0     705\n",
       "Name: SatStay, dtype: int64"
      ]
     },
     "execution_count": 21,
     "metadata": {},
     "output_type": "execute_result"
    }
   ],
   "source": [
    "bagsdf[\"SatStay\"].value_counts()"
   ]
  },
  {
   "cell_type": "markdown",
   "metadata": {},
   "source": [
    "### WeekendStay\n",
    "- Did the trip include a weekend stay"
   ]
  },
  {
   "cell_type": "code",
   "execution_count": 22,
   "metadata": {},
   "outputs": [],
   "source": [
    "def weekendStay(firstTravelDate, returnTravelDate):\n",
    "    \n",
    "    \n",
    "    friCheck = dayStay(firstTravelDate, returnTravelDate, 4)\n",
    "    satCheck = dayStay(firstTravelDate, returnTravelDate, 5)\n",
    "    sunCheck = dayStay(firstTravelDate, returnTravelDate, 6)\n",
    "     \n",
    "    if(friCheck & satCheck & sunCheck):\n",
    "        weekendCheck = 1\n",
    "    else:\n",
    "        weekendCheck=0\n",
    "    \n",
    "    return weekendCheck\n",
    "    "
   ]
  },
  {
   "cell_type": "code",
   "execution_count": 23,
   "metadata": {},
   "outputs": [],
   "source": [
    "bagsdf['weekendStay']=pd.Series()"
   ]
  },
  {
   "cell_type": "code",
   "execution_count": 24,
   "metadata": {},
   "outputs": [],
   "source": [
    "bagsdf['weekendStay']=list(map(weekendStay,bagsdf['TripFirstTravelDate'], bagsdf['TripReturnTravelDate']))"
   ]
  },
  {
   "cell_type": "code",
   "execution_count": 25,
   "metadata": {},
   "outputs": [
    {
     "data": {
      "text/plain": [
       "1    8452\n",
       "0    1548\n",
       "Name: weekendStay, dtype: int64"
      ]
     },
     "execution_count": 25,
     "metadata": {},
     "output_type": "execute_result"
    }
   ],
   "source": [
    "bagsdf['weekendStay'].value_counts()"
   ]
  },
  {
   "cell_type": "markdown",
   "metadata": {},
   "source": [
    "# Data Prep"
   ]
  },
  {
   "cell_type": "code",
   "execution_count": 26,
   "metadata": {},
   "outputs": [
    {
     "data": {
      "text/plain": [
       "<bound method IndexOpsMixin.value_counts of 0       8\n",
       "1       1\n",
       "2       8\n",
       "3       1\n",
       "4       8\n",
       "5       1\n",
       "6       8\n",
       "7       1\n",
       "8       8\n",
       "9       1\n",
       "10      7\n",
       "11      0\n",
       "12      8\n",
       "13      1\n",
       "14      7\n",
       "15      0\n",
       "16      1\n",
       "17      8\n",
       "18      1\n",
       "19      8\n",
       "20      8\n",
       "21      1\n",
       "22      8\n",
       "23      1\n",
       "24      8\n",
       "25      1\n",
       "26      8\n",
       "27      1\n",
       "28      1\n",
       "29      8\n",
       "       ..\n",
       "9970    1\n",
       "9971    8\n",
       "9972    1\n",
       "9973    8\n",
       "9974    1\n",
       "9975    8\n",
       "9976    1\n",
       "9977    8\n",
       "9978    1\n",
       "9979    8\n",
       "9980    1\n",
       "9981    8\n",
       "9982    1\n",
       "9983    8\n",
       "9984    1\n",
       "9985    8\n",
       "9986    1\n",
       "9987    8\n",
       "9988    1\n",
       "9989    8\n",
       "9990    1\n",
       "9991    8\n",
       "9992    1\n",
       "9993    8\n",
       "9994    1\n",
       "9995    8\n",
       "9996    1\n",
       "9997    8\n",
       "9998    1\n",
       "9999    8\n",
       "Name: TreatmentProductSequence, Length: 10000, dtype: int64>"
      ]
     },
     "execution_count": 26,
     "metadata": {},
     "output_type": "execute_result"
    }
   ],
   "source": [
    "bagsdf.TreatmentProductSequence.value_counts"
   ]
  },
  {
   "cell_type": "code",
   "execution_count": 27,
   "metadata": {},
   "outputs": [
    {
     "data": {
      "text/plain": [
       "(10000, 35)"
      ]
     },
     "execution_count": 27,
     "metadata": {},
     "output_type": "execute_result"
    }
   ],
   "source": [
    "bagsdf.shape"
   ]
  },
  {
   "cell_type": "code",
   "execution_count": 28,
   "metadata": {},
   "outputs": [
    {
     "data": {
      "text/plain": [
       "MinLoggedUTC                       object\n",
       "MaxExternalBookingID                int64\n",
       "PaxType                            object\n",
       "ChannelID                           int64\n",
       "RoleName                           object\n",
       "TripOriginLocationCode             object\n",
       "TripDestinationLocationCode        object\n",
       "NumberOfPassengers                  int64\n",
       "FareClass                          object\n",
       "TripType                            int64\n",
       "TreatmentRank                       int64\n",
       "SegmentOriginLocationCode          object\n",
       "SegmentDestinationLocationCode     object\n",
       "TripReturnTravelDate               object\n",
       "TripFirstTravelDate                object\n",
       "SegmentFirstTravelDate             object\n",
       "TotalFare                         float64\n",
       "JourneySalesDate                   object\n",
       "AgeOfPassengersArray               object\n",
       "FirstPaxProgramLevel               object\n",
       "TreatmentProductSequence            int64\n",
       "TreatmentRanked                     int64\n",
       "TreatmentIDBook                     int64\n",
       "QuantityBooked                      int64\n",
       "FinalStage                          int64\n",
       "ProductID                           int64\n",
       "ProductName                        object\n",
       "Amount                            float64\n",
       "OriginalPrice                     float64\n",
       "Role_Type                          object\n",
       "Price_Type                         object\n",
       "FortnightStay                       int64\n",
       "roundTrip                           int64\n",
       "SatStay                             int64\n",
       "weekendStay                         int64\n",
       "dtype: object"
      ]
     },
     "execution_count": 28,
     "metadata": {},
     "output_type": "execute_result"
    }
   ],
   "source": [
    "bagsdf.dtypes"
   ]
  },
  {
   "cell_type": "code",
   "execution_count": 29,
   "metadata": {},
   "outputs": [
    {
     "data": {
      "text/plain": [
       "MinLoggedUTC                         0\n",
       "MaxExternalBookingID                 0\n",
       "PaxType                              0\n",
       "ChannelID                            0\n",
       "RoleName                             0\n",
       "TripOriginLocationCode               0\n",
       "TripDestinationLocationCode          0\n",
       "NumberOfPassengers                   0\n",
       "FareClass                            0\n",
       "TripType                             0\n",
       "TreatmentRank                        0\n",
       "SegmentOriginLocationCode            0\n",
       "SegmentDestinationLocationCode       0\n",
       "TripReturnTravelDate              3898\n",
       "TripFirstTravelDate                  0\n",
       "SegmentFirstTravelDate               0\n",
       "TotalFare                            0\n",
       "JourneySalesDate                   193\n",
       "AgeOfPassengersArray              7239\n",
       "FirstPaxProgramLevel              7971\n",
       "TreatmentProductSequence             0\n",
       "TreatmentRanked                      0\n",
       "TreatmentIDBook                      0\n",
       "QuantityBooked                       0\n",
       "FinalStage                           0\n",
       "ProductID                            0\n",
       "ProductName                          0\n",
       "Amount                               0\n",
       "OriginalPrice                        0\n",
       "Role_Type                            0\n",
       "Price_Type                           0\n",
       "FortnightStay                        0\n",
       "roundTrip                            0\n",
       "SatStay                              0\n",
       "weekendStay                          0\n",
       "dtype: int64"
      ]
     },
     "execution_count": 29,
     "metadata": {},
     "output_type": "execute_result"
    }
   ],
   "source": [
    "bagsdf.isnull().sum()"
   ]
  },
  {
   "cell_type": "code",
   "execution_count": 30,
   "metadata": {},
   "outputs": [
    {
     "data": {
      "text/plain": [
       "16               2019-06-30T23:58:17\n",
       "17               2019-06-30T23:58:17\n",
       "18               2019-06-30T23:58:17\n",
       "19               2019-06-30T23:58:17\n",
       "52               2019-06-17T16:25:20\n",
       "53               2019-06-17T16:25:20\n",
       "54               2019-06-17T16:25:20\n",
       "55               2019-06-17T16:25:20\n",
       "90               2019-06-30T23:59:24\n",
       "91               2019-06-30T23:59:24\n",
       "92               2019-06-30T23:59:24\n",
       "93               2019-06-30T23:59:24\n",
       "108              2019-06-17T16:25:20\n",
       "109              2019-06-17T16:25:20\n",
       "110              2019-06-17T16:25:20\n",
       "111              2019-06-17T16:25:20\n",
       "174              2019-06-15T15:51:09\n",
       "175              2019-06-15T15:51:09\n",
       "266              2019-06-05T19:10:54\n",
       "267              2019-06-05T19:10:54\n",
       "268              2019-06-05T19:10:54\n",
       "269              2019-06-05T19:10:54\n",
       "490              2019-06-19T00:00:00\n",
       "491              2019-06-19T00:00:00\n",
       "492              2019-06-19T00:00:00\n",
       "493              2019-06-19T00:00:00\n",
       "624              2019-06-21T02:15:46\n",
       "625              2019-06-21T02:15:46\n",
       "626              2019-06-21T02:15:46\n",
       "627              2019-06-21T02:15:46\n",
       "                    ...             \n",
       "8628             2019-06-16T20:02:27\n",
       "8629             2019-06-16T20:02:27\n",
       "8630             2019-06-16T20:02:27\n",
       "8631             2019-06-16T20:02:27\n",
       "8875             2019-06-24T16:34:56\n",
       "8876             2019-06-24T16:34:56\n",
       "8877             2019-06-24T16:34:56\n",
       "8878             2019-06-24T16:34:56\n",
       "9019    2019-06-14T:00:00:00.0000000\n",
       "9020    2019-06-14T:00:00:00.0000000\n",
       "9021    2019-06-14T:00:00:00.0000000\n",
       "9022    2019-06-14T:00:00:00.0000000\n",
       "9023    2019-06-14T:00:00:00.0000000\n",
       "9024    2019-06-14T:00:00:00.0000000\n",
       "9025    2019-06-14T:00:00:00.0000000\n",
       "9026    2019-06-14T:00:00:00.0000000\n",
       "9027    2019-06-14T:00:00:00.0000000\n",
       "9028    2019-06-14T:00:00:00.0000000\n",
       "9029    2019-06-14T:00:00:00.0000000\n",
       "9030    2019-06-14T:00:00:00.0000000\n",
       "9057             2019-06-15T15:48:59\n",
       "9058             2019-06-15T15:48:59\n",
       "9059             2019-06-15T15:48:59\n",
       "9060             2019-06-15T15:48:59\n",
       "9536             2019-06-18T00:00:00\n",
       "9537             2019-06-18T00:00:00\n",
       "9538             2019-06-18T00:00:00\n",
       "9539             2019-06-18T00:00:00\n",
       "9782             2019-06-08T22:02:31\n",
       "9783             2019-06-08T22:02:31\n",
       "Name: JourneySalesDate, Length: 436, dtype: object"
      ]
     },
     "execution_count": 30,
     "metadata": {},
     "output_type": "execute_result"
    }
   ],
   "source": [
    "bagsdf[bagsdf['JourneySalesDate'].str.contains('2019-07-01')==False].JourneySalesDate\n",
    "#df['primaryTitle'].str.contains('Shawshank')"
   ]
  },
  {
   "cell_type": "code",
   "execution_count": 31,
   "metadata": {},
   "outputs": [],
   "source": [
    "#tempdf=bagsdf.dropna()"
   ]
  },
  {
   "cell_type": "code",
   "execution_count": 32,
   "metadata": {},
   "outputs": [],
   "source": [
    "#tempdf.shape"
   ]
  },
  {
   "cell_type": "code",
   "execution_count": 33,
   "metadata": {},
   "outputs": [],
   "source": [
    "cols=list(bagsdf.columns)\n",
    "#cols"
   ]
  },
  {
   "cell_type": "markdown",
   "metadata": {},
   "source": [
    "with null values:\n",
    "- TripReturnTravelDate\n",
    "- JourneySalesDate\n",
    "- AgeofPssengersArray\n",
    "- FirstPaxProgramLevel"
   ]
  },
  {
   "cell_type": "markdown",
   "metadata": {},
   "source": [
    "- Drop the columns JourneySalesDate, AgeofPssengersArray & FirstPaxProgramLevel because of large amounts of null values(more than half of the rows are nul) and they arent useful\n",
    "- However the date the prodcut was sold and the trip return date may be helpful\n",
    "- From comparing MinLoggedUTC to JourneySalesDate they seem to be the same data"
   ]
  },
  {
   "cell_type": "code",
   "execution_count": 34,
   "metadata": {},
   "outputs": [],
   "source": [
    "bagsdf.drop([\"AgeOfPassengersArray\",\"FirstPaxProgramLevel\", 'MinLoggedUTC'], axis=1, inplace=True)"
   ]
  },
  {
   "cell_type": "code",
   "execution_count": 35,
   "metadata": {},
   "outputs": [],
   "source": [
    "bagsdf.dropna(subset=['JourneySalesDate'], how='all', inplace=True)"
   ]
  },
  {
   "cell_type": "code",
   "execution_count": 36,
   "metadata": {},
   "outputs": [
    {
     "data": {
      "text/plain": [
       "(9807, 32)"
      ]
     },
     "execution_count": 36,
     "metadata": {},
     "output_type": "execute_result"
    }
   ],
   "source": [
    "bagsdf.shape"
   ]
  },
  {
   "cell_type": "code",
   "execution_count": 37,
   "metadata": {},
   "outputs": [],
   "source": [
    "#0 for Unknown\n",
    "bagsdf.TripReturnTravelDate.fillna(0, inplace=True)"
   ]
  },
  {
   "cell_type": "code",
   "execution_count": 38,
   "metadata": {},
   "outputs": [
    {
     "data": {
      "text/plain": [
       "int"
      ]
     },
     "execution_count": 38,
     "metadata": {},
     "output_type": "execute_result"
    }
   ],
   "source": [
    "type(bagsdf.TripReturnTravelDate[0])"
   ]
  },
  {
   "cell_type": "code",
   "execution_count": 39,
   "metadata": {},
   "outputs": [
    {
     "data": {
      "text/plain": [
       "0"
      ]
     },
     "execution_count": 39,
     "metadata": {},
     "output_type": "execute_result"
    }
   ],
   "source": [
    "bagsdf.TripReturnTravelDate[0]"
   ]
  },
  {
   "cell_type": "code",
   "execution_count": 40,
   "metadata": {},
   "outputs": [],
   "source": [
    "def changeDate(col, delim):\n",
    "    y=col.strip(\"Date\")\n",
    "    if(delim == '-'):\n",
    "        bagsdf[y+\"Year\"]=[int(x.split(delim)[0]) if isinstance(x,str) else 0 for x in bagsdf[col] ]\n",
    "        bagsdf[y+\"Month\"]=[int(x.split(delim)[1]) if isinstance(x,str) else 0 for x in bagsdf[col] ]\n",
    "        bagsdf[y+\"Day\"]=[int(x.split(delim)[2][0:2]) if isinstance(x,str) else 0 for x in bagsdf[col] ]\n",
    "    else:\n",
    "        bagsdf[y+\"Year\"]=[int(x.split(delim)[2][0:4]) if isinstance(x,str) else 0 for x in bagsdf[col] ]\n",
    "        bagsdf[y+\"Month\"]=[int(x.split(delim)[0]) if isinstance(x,str) else 0 for x in bagsdf[col] ]\n",
    "        bagsdf[y+\"Day\"]=[int(x.split(delim)[1]) if isinstance(x,str) else 0 for x in bagsdf[col] ]\n",
    "    bagsdf.pop(col)"
   ]
  },
  {
   "cell_type": "code",
   "execution_count": 41,
   "metadata": {},
   "outputs": [
    {
     "data": {
      "text/plain": [
       "Index(['MaxExternalBookingID', 'PaxType', 'ChannelID', 'RoleName',\n",
       "       'TripOriginLocationCode', 'TripDestinationLocationCode',\n",
       "       'NumberOfPassengers', 'FareClass', 'TripType', 'TreatmentRank',\n",
       "       'SegmentOriginLocationCode', 'SegmentDestinationLocationCode',\n",
       "       'TripReturnTravelDate', 'TripFirstTravelDate', 'SegmentFirstTravelDate',\n",
       "       'TotalFare', 'JourneySalesDate', 'TreatmentProductSequence',\n",
       "       'TreatmentRanked', 'TreatmentIDBook', 'QuantityBooked', 'FinalStage',\n",
       "       'ProductID', 'ProductName', 'Amount', 'OriginalPrice', 'Role_Type',\n",
       "       'Price_Type', 'FortnightStay', 'roundTrip', 'SatStay', 'weekendStay'],\n",
       "      dtype='object')"
      ]
     },
     "execution_count": 41,
     "metadata": {},
     "output_type": "execute_result"
    }
   ],
   "source": [
    "bagsdf.columns"
   ]
  },
  {
   "cell_type": "code",
   "execution_count": 42,
   "metadata": {},
   "outputs": [],
   "source": [
    "changeDate(\"JourneySalesDate\", '-')"
   ]
  },
  {
   "cell_type": "code",
   "execution_count": 43,
   "metadata": {},
   "outputs": [],
   "source": [
    "changeDate('TripFirstTravelDate', '/')"
   ]
  },
  {
   "cell_type": "code",
   "execution_count": 44,
   "metadata": {},
   "outputs": [],
   "source": [
    "changeDate('SegmentFirstTravelDate', '/')"
   ]
  },
  {
   "cell_type": "code",
   "execution_count": 45,
   "metadata": {},
   "outputs": [],
   "source": [
    "changeDate('TripReturnTravelDate', '/')"
   ]
  },
  {
   "cell_type": "code",
   "execution_count": 46,
   "metadata": {},
   "outputs": [
    {
     "data": {
      "text/plain": [
       "Index(['MaxExternalBookingID', 'PaxType', 'ChannelID', 'RoleName',\n",
       "       'TripOriginLocationCode', 'TripDestinationLocationCode',\n",
       "       'NumberOfPassengers', 'FareClass', 'TripType', 'TreatmentRank',\n",
       "       'SegmentOriginLocationCode', 'SegmentDestinationLocationCode',\n",
       "       'TotalFare', 'TreatmentProductSequence', 'TreatmentRanked',\n",
       "       'TreatmentIDBook', 'QuantityBooked', 'FinalStage', 'ProductID',\n",
       "       'ProductName', 'Amount', 'OriginalPrice', 'Role_Type', 'Price_Type',\n",
       "       'FortnightStay', 'roundTrip', 'SatStay', 'weekendStay',\n",
       "       'JourneySalesYear', 'JourneySalesMonth', 'JourneySalesDay',\n",
       "       'TripFirstTravelYear', 'TripFirstTravelMonth', 'TripFirstTravelDay',\n",
       "       'SegmentFirstTravelYear', 'SegmentFirstTravelMonth',\n",
       "       'SegmentFirstTravelDay', 'TripReturnTravelYear',\n",
       "       'TripReturnTravelMonth', 'TripReturnTravelDay'],\n",
       "      dtype='object')"
      ]
     },
     "execution_count": 46,
     "metadata": {},
     "output_type": "execute_result"
    }
   ],
   "source": [
    "bagsdf.columns"
   ]
  },
  {
   "cell_type": "code",
   "execution_count": 47,
   "metadata": {},
   "outputs": [
    {
     "data": {
      "text/plain": [
       "0            8522\n",
       "612327321       1\n",
       "612035663       1\n",
       "611413079       1\n",
       "611605609       1\n",
       "612138109       1\n",
       "611498675       1\n",
       "612496516       1\n",
       "612899985       1\n",
       "611947688       1\n",
       "612097193       1\n",
       "611140786       1\n",
       "612787382       1\n",
       "612953279       1\n",
       "612960277       1\n",
       "612834497       1\n",
       "611327177       1\n",
       "611335373       1\n",
       "611661036       1\n",
       "611087436       1\n",
       "612607046       1\n",
       "611916865       1\n",
       "612785121       1\n",
       "611904335       1\n",
       "612769084       1\n",
       "611832720       1\n",
       "611527583       1\n",
       "611392417       1\n",
       "611926970       1\n",
       "611599306       1\n",
       "             ... \n",
       "611981982       1\n",
       "611404372       1\n",
       "611889827       1\n",
       "611498674       1\n",
       "613640888       1\n",
       "611879612       1\n",
       "612329947       1\n",
       "611670734       1\n",
       "611404508       1\n",
       "611686998       1\n",
       "611250755       1\n",
       "611256700       1\n",
       "611520991       1\n",
       "611942805       1\n",
       "612346264       1\n",
       "612553119       1\n",
       "612442537       1\n",
       "611348915       1\n",
       "611910077       1\n",
       "611725779       1\n",
       "612618735       1\n",
       "612688441       1\n",
       "612538878       1\n",
       "611850774       1\n",
       "612831767       1\n",
       "611756568       1\n",
       "611672617       1\n",
       "611676715       1\n",
       "611959341       1\n",
       "611649557       1\n",
       "Name: TreatmentIDBook, Length: 1286, dtype: int64"
      ]
     },
     "execution_count": 47,
     "metadata": {},
     "output_type": "execute_result"
    }
   ],
   "source": [
    "bagsdf.TreatmentIDBook.value_counts() #all values are unique => not useful"
   ]
  },
  {
   "cell_type": "code",
   "execution_count": 48,
   "metadata": {},
   "outputs": [],
   "source": [
    "bagsdf.drop(\"TreatmentIDBook\", axis=1, inplace=True)"
   ]
  },
  {
   "cell_type": "code",
   "execution_count": 49,
   "metadata": {},
   "outputs": [
    {
     "data": {
      "text/html": [
       "<div>\n",
       "<style scoped>\n",
       "    .dataframe tbody tr th:only-of-type {\n",
       "        vertical-align: middle;\n",
       "    }\n",
       "\n",
       "    .dataframe tbody tr th {\n",
       "        vertical-align: top;\n",
       "    }\n",
       "\n",
       "    .dataframe thead th {\n",
       "        text-align: right;\n",
       "    }\n",
       "</style>\n",
       "<table border=\"1\" class=\"dataframe\">\n",
       "  <thead>\n",
       "    <tr style=\"text-align: right;\">\n",
       "      <th></th>\n",
       "      <th>ProductName</th>\n",
       "      <th>ProductID</th>\n",
       "    </tr>\n",
       "  </thead>\n",
       "  <tbody>\n",
       "    <tr>\n",
       "      <th>0</th>\n",
       "      <td>BAG1</td>\n",
       "      <td>78</td>\n",
       "    </tr>\n",
       "    <tr>\n",
       "      <th>1</th>\n",
       "      <td>COB1</td>\n",
       "      <td>84</td>\n",
       "    </tr>\n",
       "    <tr>\n",
       "      <th>2</th>\n",
       "      <td>BAG1</td>\n",
       "      <td>78</td>\n",
       "    </tr>\n",
       "    <tr>\n",
       "      <th>3</th>\n",
       "      <td>COB1</td>\n",
       "      <td>84</td>\n",
       "    </tr>\n",
       "    <tr>\n",
       "      <th>4</th>\n",
       "      <td>BAG1</td>\n",
       "      <td>78</td>\n",
       "    </tr>\n",
       "  </tbody>\n",
       "</table>\n",
       "</div>"
      ],
      "text/plain": [
       "  ProductName  ProductID\n",
       "0        BAG1         78\n",
       "1        COB1         84\n",
       "2        BAG1         78\n",
       "3        COB1         84\n",
       "4        BAG1         78"
      ]
     },
     "execution_count": 49,
     "metadata": {},
     "output_type": "execute_result"
    }
   ],
   "source": [
    "#Cols ProductName and Product ID give the same info\n",
    "bagsdf[['ProductName', 'ProductID']].head()"
   ]
  },
  {
   "cell_type": "code",
   "execution_count": 50,
   "metadata": {},
   "outputs": [],
   "source": [
    "bagsdf.drop(\"ProductName\", axis=1, inplace=True)"
   ]
  },
  {
   "cell_type": "code",
   "execution_count": 51,
   "metadata": {},
   "outputs": [
    {
     "data": {
      "text/plain": [
       "1     9371\n",
       "10      44\n",
       "14      40\n",
       "21      32\n",
       "11      28\n",
       "18      28\n",
       "20      26\n",
       "13      20\n",
       "27      20\n",
       "26      20\n",
       "16      16\n",
       "6       16\n",
       "17      14\n",
       "15      14\n",
       "23      12\n",
       "24      12\n",
       "8       12\n",
       "28      12\n",
       "5       12\n",
       "7       12\n",
       "19       8\n",
       "25       8\n",
       "9        8\n",
       "30       8\n",
       "12       8\n",
       "29       4\n",
       "22       2\n",
       "Name: JourneySalesDay, dtype: int64"
      ]
     },
     "execution_count": 51,
     "metadata": {},
     "output_type": "execute_result"
    }
   ],
   "source": [
    "bagsdf.JourneySalesDay.value_counts()"
   ]
  },
  {
   "cell_type": "code",
   "execution_count": 52,
   "metadata": {},
   "outputs": [
    {
     "data": {
      "text/plain": [
       "0    78\n",
       "1    84\n",
       "2    78\n",
       "3    84\n",
       "4    78\n",
       "Name: ProductID, dtype: int64"
      ]
     },
     "execution_count": 52,
     "metadata": {},
     "output_type": "execute_result"
    }
   ],
   "source": [
    "bagsdf.ProductID.head()"
   ]
  },
  {
   "cell_type": "code",
   "execution_count": 53,
   "metadata": {},
   "outputs": [],
   "source": [
    "bagsdf.drop(\"FinalStage\", axis=1, inplace=True)"
   ]
  },
  {
   "cell_type": "code",
   "execution_count": 54,
   "metadata": {},
   "outputs": [],
   "source": [
    "df=pd.get_dummies(bagsdf, drop_first=False)"
   ]
  },
  {
   "cell_type": "code",
   "execution_count": null,
   "metadata": {},
   "outputs": [],
   "source": []
  },
  {
   "cell_type": "markdown",
   "metadata": {},
   "source": [
    "         "
   ]
  },
  {
   "cell_type": "code",
   "execution_count": 55,
   "metadata": {},
   "outputs": [
    {
     "data": {
      "text/plain": [
       "0    8522\n",
       "1    1031\n",
       "2     196\n",
       "3      30\n",
       "4      18\n",
       "7       4\n",
       "6       4\n",
       "5       2\n",
       "Name: QuantityBooked, dtype: int64"
      ]
     },
     "execution_count": 55,
     "metadata": {},
     "output_type": "execute_result"
    }
   ],
   "source": [
    "df['QuantityBooked'].value_counts()"
   ]
  },
  {
   "cell_type": "code",
   "execution_count": 56,
   "metadata": {},
   "outputs": [],
   "source": [
    "df.loc[df['QuantityBooked']>=1,'Booked']=1"
   ]
  },
  {
   "cell_type": "code",
   "execution_count": 57,
   "metadata": {},
   "outputs": [],
   "source": [
    "df[\"Booked\"] = [1 if i>=1 else 0 for i in df['QuantityBooked']>=1]"
   ]
  },
  {
   "cell_type": "code",
   "execution_count": 58,
   "metadata": {},
   "outputs": [
    {
     "data": {
      "text/plain": [
       "(9807, 495)"
      ]
     },
     "execution_count": 58,
     "metadata": {},
     "output_type": "execute_result"
    }
   ],
   "source": [
    "df.shape"
   ]
  },
  {
   "cell_type": "markdown",
   "metadata": {},
   "source": [
    "# Visualisation"
   ]
  },
  {
   "cell_type": "code",
   "execution_count": 60,
   "metadata": {},
   "outputs": [],
   "source": [
    "import matplotlib.pyplot as plt"
   ]
  },
  {
   "cell_type": "code",
   "execution_count": 61,
   "metadata": {},
   "outputs": [
    {
     "data": {
      "image/png": "[encoded data removed]",
      "text/plain": [
       "<Figure size 504x504 with 1 Axes>"
      ]
     },
     "metadata": {},
     "output_type": "display_data"
    }
   ],
   "source": [
    "fig,ax=plt.subplots(figsize=(7,7))\n",
    "s2=dict(df.Booked.value_counts())\n",
    "vals=list(s2.values())\n",
    "labels=['No bags purchased', 'At least one bag purchased']\n",
    "explode=(0,0.1)\n",
    "#fig1, ax1 = plt.subplots()\n",
    "ax.pie(vals, explode=explode, labels=labels, autopct='%1.1f%%',\n",
    "        shadow=True, startangle=90)\n",
    "plt.title('Probability a bag is purchased')\n",
    "ax.axis('equal')  # Equal aspect ratio ensures that pie is drawn as a circle.\n",
    "plt.savefig('piechart.png')\n",
    "plt.show()\n"
   ]
  },
  {
   "cell_type": "markdown",
   "metadata": {},
   "source": [
    "## Effect of flight departure month on the probablity a bag is purchased"
   ]
  },
  {
   "cell_type": "code",
   "execution_count": 62,
   "metadata": {},
   "outputs": [],
   "source": [
    "bagsbyMonth= bagsdf.groupby(['TripFirstTravelMonth', 'QuantityBooked']).size().reset_index(name='counts')"
   ]
  },
  {
   "cell_type": "code",
   "execution_count": 63,
   "metadata": {},
   "outputs": [],
   "source": [
    "#get the number of bags purchased each month\n",
    "month={}\n",
    "for i in range(1,13):\n",
    "    sum=0\n",
    "    \n",
    "    for ind in bagsbyMonth.index:\n",
    "        if (bagsbyMonth.TripFirstTravelMonth[ind]==i):\n",
    "            sum = sum + bagsbyMonth.QuantityBooked[ind]*bagsbyMonth.counts[ind]\n",
    "        month[i]=sum\n",
    "    "
   ]
  },
  {
   "cell_type": "code",
   "execution_count": 64,
   "metadata": {},
   "outputs": [],
   "source": [
    "#winter=['Jan','Nov', 'Dec']\n",
    "#spring=['Feb', 'Mar', 'Apr']\n",
    "#summer=['May', 'Jun', 'Jul']\n",
    "#autumn=['Aug', 'Sep', 'Oct']"
   ]
  },
  {
   "cell_type": "code",
   "execution_count": 65,
   "metadata": {},
   "outputs": [],
   "source": [
    "winter={'Jan':1,'Nov':11, 'Dec':12}\n",
    "spring={'Feb':2, 'Mar':3, 'Apr':4}\n",
    "summer={'May':5, 'Jun':6, 'Jul':7}\n",
    "autumn={'Aug':8, 'Sep':9, 'Oct':10}"
   ]
  },
  {
   "cell_type": "code",
   "execution_count": 66,
   "metadata": {},
   "outputs": [
    {
     "name": "stderr",
     "output_type": "stream",
     "text": [
      "C:\\Users\\oyino\\Anaconda3\\lib\\site-packages\\ipykernel_launcher.py:64: UserWarning: Matplotlib is currently using module://ipykernel.pylab.backend_inline, which is a non-GUI backend, so cannot show the figure.\n"
     ]
    },
    {
     "data": {
      "image/png": "[encoded data removed]",
      "text/plain": [
       "<Figure size 720x720 with 2 Axes>"
      ]
     },
     "metadata": {
      "needs_background": "light"
     },
     "output_type": "display_data"
    }
   ],
   "source": [
    "fig, ax = plt.subplots(figsize=(10,10))\n",
    "from matplotlib.patches import Patch\n",
    "\n",
    "\n",
    "color=dict.fromkeys(list(winter.keys()), 'blue')\n",
    "color.update(dict.fromkeys(list(spring.keys()) , 'yellow'))\n",
    "color.update(dict.fromkeys(list(summer.keys()) , 'orange'))\n",
    "color.update(dict.fromkeys(list(autumn.keys()) , 'brown'))\n",
    "colours={'winter': 'blue', 'spring':'yellow', 'summer':'orange', 'autumn':'brown'}\n",
    "\n",
    "time=['Jan', 'Feb', 'Mar', 'Apr', 'May', 'Jun', 'Jul', 'Aug', 'Sep', 'Oct', 'Nov', 'Dec']\n",
    "color={k:color[k] for k in time}\n",
    "\n",
    "im=ax.bar(month.keys(), month.values(), color=color.values())\n",
    "\n",
    "#caculates the number of bags booked each season\n",
    "def bagsSeason(season):\n",
    "    sum=0\n",
    "    for i in season.values():\n",
    "        sum+=month[i]\n",
    "\n",
    "    return str(sum)\n",
    "\n",
    "handlesleg=[\n",
    "    Patch(color='blue', label='winter: ' + bagsSeason(winter) + ' bags'),\n",
    "    Patch(color='yellow', label='spring: ' + bagsSeason(spring)+ ' bags'),\n",
    "    Patch(color='orange', label='summer: ' + bagsSeason(summer)+ ' bags'),\n",
    "    Patch(color='brown', label='autumn: ' + bagsSeason(autumn)+ ' bags')\n",
    "]\n",
    "plt.legend(handles=handlesleg)\n",
    "#time=range(1,13,1)\n",
    "ax.set_xticks(range(1,13,1))\n",
    "ax.set_xticklabels(time)\n",
    "ax.tick_params(labelsize=15)\n",
    "ax.set_xlabel(\"Month\", fontsize=25)\n",
    "ax.set_ylabel(\"Count of Bags Purchased\", fontsize=25)\n",
    "ax.set_title(\"Count of Bags and flights for each Month\", fontsize=40)\n",
    "\n",
    "#subscripts showing the number of bags purchased\n",
    "def autolabel(rects):\n",
    "    for rect in rects:\n",
    "        height = rect.get_height()\n",
    "        ax.annotate('{}'.format(height),\n",
    "                    xy=(rect.get_x() + rect.get_width() / 2, height),\n",
    "                    xytext=(0, 3),\n",
    "                    textcoords=\"offset points\",\n",
    "                    ha='center', va='bottom')\n",
    "        \n",
    "\n",
    "\n",
    "autolabel(im)\n",
    "\n",
    "monthFreq=dict(df['TripFirstTravelMonth'].value_counts())\n",
    "#give a 0 value for months that don't appear in the dataset\n",
    "monthFreq[4]=0\n",
    "monthFreq[5]=0\n",
    "#monthFreq[0]=0\n",
    "\n",
    "monthFreq=dict(sorted(monthFreq.items()))\n",
    "\n",
    "ax2=ax.twinx()\n",
    "ax2.plot(list(month.keys()), list(monthFreq.values()), color='green')\n",
    "ax2.set_ylabel('Count of flights Booked', color='green', fontsize=25)\n",
    "plt.savefig('bags_flights.png')\n",
    "fig.show()\n",
    "#to do\n"
   ]
  },
  {
   "cell_type": "markdown",
   "metadata": {},
   "source": [
    "## The probability a bag is booked in each month"
   ]
  },
  {
   "cell_type": "code",
   "execution_count": 67,
   "metadata": {},
   "outputs": [],
   "source": [
    "probMonth=df.groupby(['TripFirstTravelMonth', 'Booked']).size().reset_index(name='counts')"
   ]
  },
  {
   "cell_type": "code",
   "execution_count": 68,
   "metadata": {},
   "outputs": [],
   "source": [
    "#drop rows where booked = 0\n",
    "probMonth=probMonth[probMonth.Booked !=0]"
   ]
  },
  {
   "cell_type": "code",
   "execution_count": 69,
   "metadata": {},
   "outputs": [
    {
     "data": {
      "text/html": [
       "<div>\n",
       "<style scoped>\n",
       "    .dataframe tbody tr th:only-of-type {\n",
       "        vertical-align: middle;\n",
       "    }\n",
       "\n",
       "    .dataframe tbody tr th {\n",
       "        vertical-align: top;\n",
       "    }\n",
       "\n",
       "    .dataframe thead th {\n",
       "        text-align: right;\n",
       "    }\n",
       "</style>\n",
       "<table border=\"1\" class=\"dataframe\">\n",
       "  <thead>\n",
       "    <tr style=\"text-align: right;\">\n",
       "      <th></th>\n",
       "      <th>TripFirstTravelMonth</th>\n",
       "      <th>Booked</th>\n",
       "      <th>counts</th>\n",
       "    </tr>\n",
       "  </thead>\n",
       "  <tbody>\n",
       "    <tr>\n",
       "      <th>1</th>\n",
       "      <td>1</td>\n",
       "      <td>1</td>\n",
       "      <td>4</td>\n",
       "    </tr>\n",
       "    <tr>\n",
       "      <th>3</th>\n",
       "      <td>2</td>\n",
       "      <td>1</td>\n",
       "      <td>8</td>\n",
       "    </tr>\n",
       "    <tr>\n",
       "      <th>5</th>\n",
       "      <td>3</td>\n",
       "      <td>1</td>\n",
       "      <td>2</td>\n",
       "    </tr>\n",
       "    <tr>\n",
       "      <th>7</th>\n",
       "      <td>6</td>\n",
       "      <td>1</td>\n",
       "      <td>22</td>\n",
       "    </tr>\n",
       "    <tr>\n",
       "      <th>9</th>\n",
       "      <td>7</td>\n",
       "      <td>1</td>\n",
       "      <td>800</td>\n",
       "    </tr>\n",
       "    <tr>\n",
       "      <th>11</th>\n",
       "      <td>8</td>\n",
       "      <td>1</td>\n",
       "      <td>265</td>\n",
       "    </tr>\n",
       "    <tr>\n",
       "      <th>13</th>\n",
       "      <td>9</td>\n",
       "      <td>1</td>\n",
       "      <td>99</td>\n",
       "    </tr>\n",
       "    <tr>\n",
       "      <th>15</th>\n",
       "      <td>10</td>\n",
       "      <td>1</td>\n",
       "      <td>43</td>\n",
       "    </tr>\n",
       "    <tr>\n",
       "      <th>17</th>\n",
       "      <td>11</td>\n",
       "      <td>1</td>\n",
       "      <td>25</td>\n",
       "    </tr>\n",
       "    <tr>\n",
       "      <th>19</th>\n",
       "      <td>12</td>\n",
       "      <td>1</td>\n",
       "      <td>17</td>\n",
       "    </tr>\n",
       "  </tbody>\n",
       "</table>\n",
       "</div>"
      ],
      "text/plain": [
       "    TripFirstTravelMonth  Booked  counts\n",
       "1                      1       1       4\n",
       "3                      2       1       8\n",
       "5                      3       1       2\n",
       "7                      6       1      22\n",
       "9                      7       1     800\n",
       "11                     8       1     265\n",
       "13                     9       1      99\n",
       "15                    10       1      43\n",
       "17                    11       1      25\n",
       "19                    12       1      17"
      ]
     },
     "execution_count": 69,
     "metadata": {},
     "output_type": "execute_result"
    }
   ],
   "source": [
    "probMonth"
   ]
  },
  {
   "cell_type": "code",
   "execution_count": 70,
   "metadata": {},
   "outputs": [],
   "source": [
    "monthFreq.pop(4)\n",
    "monthFreq.pop(5)\n",
    "freq=[]\n",
    "for x, y in monthFreq.items():\n",
    "    freq.append(y)"
   ]
  },
  {
   "cell_type": "code",
   "execution_count": 71,
   "metadata": {},
   "outputs": [
    {
     "data": {
      "text/plain": [
       "[36, 54, 4, 440, 6323, 1720, 701, 260, 157, 112]"
      ]
     },
     "execution_count": 71,
     "metadata": {},
     "output_type": "execute_result"
    }
   ],
   "source": [
    "freq"
   ]
  },
  {
   "cell_type": "code",
   "execution_count": 72,
   "metadata": {},
   "outputs": [],
   "source": [
    "probMonth['MonthFreq']=pd.Series()\n",
    "probMonth['MonthFreq']=freq"
   ]
  },
  {
   "cell_type": "code",
   "execution_count": 73,
   "metadata": {},
   "outputs": [
    {
     "data": {
      "text/html": [
       "<div>\n",
       "<style scoped>\n",
       "    .dataframe tbody tr th:only-of-type {\n",
       "        vertical-align: middle;\n",
       "    }\n",
       "\n",
       "    .dataframe tbody tr th {\n",
       "        vertical-align: top;\n",
       "    }\n",
       "\n",
       "    .dataframe thead th {\n",
       "        text-align: right;\n",
       "    }\n",
       "</style>\n",
       "<table border=\"1\" class=\"dataframe\">\n",
       "  <thead>\n",
       "    <tr style=\"text-align: right;\">\n",
       "      <th></th>\n",
       "      <th>TripFirstTravelMonth</th>\n",
       "      <th>Booked</th>\n",
       "      <th>counts</th>\n",
       "      <th>MonthFreq</th>\n",
       "    </tr>\n",
       "  </thead>\n",
       "  <tbody>\n",
       "    <tr>\n",
       "      <th>1</th>\n",
       "      <td>1</td>\n",
       "      <td>1</td>\n",
       "      <td>4</td>\n",
       "      <td>36</td>\n",
       "    </tr>\n",
       "    <tr>\n",
       "      <th>3</th>\n",
       "      <td>2</td>\n",
       "      <td>1</td>\n",
       "      <td>8</td>\n",
       "      <td>54</td>\n",
       "    </tr>\n",
       "    <tr>\n",
       "      <th>5</th>\n",
       "      <td>3</td>\n",
       "      <td>1</td>\n",
       "      <td>2</td>\n",
       "      <td>4</td>\n",
       "    </tr>\n",
       "    <tr>\n",
       "      <th>7</th>\n",
       "      <td>6</td>\n",
       "      <td>1</td>\n",
       "      <td>22</td>\n",
       "      <td>440</td>\n",
       "    </tr>\n",
       "    <tr>\n",
       "      <th>9</th>\n",
       "      <td>7</td>\n",
       "      <td>1</td>\n",
       "      <td>800</td>\n",
       "      <td>6323</td>\n",
       "    </tr>\n",
       "    <tr>\n",
       "      <th>11</th>\n",
       "      <td>8</td>\n",
       "      <td>1</td>\n",
       "      <td>265</td>\n",
       "      <td>1720</td>\n",
       "    </tr>\n",
       "    <tr>\n",
       "      <th>13</th>\n",
       "      <td>9</td>\n",
       "      <td>1</td>\n",
       "      <td>99</td>\n",
       "      <td>701</td>\n",
       "    </tr>\n",
       "    <tr>\n",
       "      <th>15</th>\n",
       "      <td>10</td>\n",
       "      <td>1</td>\n",
       "      <td>43</td>\n",
       "      <td>260</td>\n",
       "    </tr>\n",
       "    <tr>\n",
       "      <th>17</th>\n",
       "      <td>11</td>\n",
       "      <td>1</td>\n",
       "      <td>25</td>\n",
       "      <td>157</td>\n",
       "    </tr>\n",
       "    <tr>\n",
       "      <th>19</th>\n",
       "      <td>12</td>\n",
       "      <td>1</td>\n",
       "      <td>17</td>\n",
       "      <td>112</td>\n",
       "    </tr>\n",
       "  </tbody>\n",
       "</table>\n",
       "</div>"
      ],
      "text/plain": [
       "    TripFirstTravelMonth  Booked  counts  MonthFreq\n",
       "1                      1       1       4         36\n",
       "3                      2       1       8         54\n",
       "5                      3       1       2          4\n",
       "7                      6       1      22        440\n",
       "9                      7       1     800       6323\n",
       "11                     8       1     265       1720\n",
       "13                     9       1      99        701\n",
       "15                    10       1      43        260\n",
       "17                    11       1      25        157\n",
       "19                    12       1      17        112"
      ]
     },
     "execution_count": 73,
     "metadata": {},
     "output_type": "execute_result"
    }
   ],
   "source": [
    "probMonth"
   ]
  },
  {
   "cell_type": "code",
   "execution_count": 74,
   "metadata": {},
   "outputs": [],
   "source": [
    "#calculate the purchasing probability for each month\n",
    "probMonth['probability'] = probMonth['counts']/probMonth['MonthFreq']"
   ]
  },
  {
   "cell_type": "code",
   "execution_count": 75,
   "metadata": {},
   "outputs": [],
   "source": [
    "probMonth.set_index('TripFirstTravelMonth', inplace=True)"
   ]
  },
  {
   "cell_type": "code",
   "execution_count": 76,
   "metadata": {},
   "outputs": [],
   "source": [
    "probMonth_dict=dict(probMonth['probability'])\n",
    "probMonth_dict[4]=0\n",
    "probMonth_dict[5]=0\n",
    "probMonth_dict=dict(sorted(probMonth_dict.items()))"
   ]
  },
  {
   "cell_type": "code",
   "execution_count": 77,
   "metadata": {},
   "outputs": [
    {
     "data": {
      "text/plain": [
       "{1: 0.1111111111111111,\n",
       " 2: 0.14814814814814814,\n",
       " 3: 0.5,\n",
       " 4: 0,\n",
       " 5: 0,\n",
       " 6: 0.05,\n",
       " 7: 0.12652222046496917,\n",
       " 8: 0.15406976744186046,\n",
       " 9: 0.14122681883024252,\n",
       " 10: 0.16538461538461538,\n",
       " 11: 0.1592356687898089,\n",
       " 12: 0.15178571428571427}"
      ]
     },
     "execution_count": 77,
     "metadata": {},
     "output_type": "execute_result"
    }
   ],
   "source": [
    "probMonth_dict"
   ]
  },
  {
   "cell_type": "code",
   "execution_count": 78,
   "metadata": {
    "scrolled": true
   },
   "outputs": [
    {
     "name": "stderr",
     "output_type": "stream",
     "text": [
      "C:\\Users\\oyino\\Anaconda3\\lib\\site-packages\\ipykernel_launcher.py:58: UserWarning: Matplotlib is currently using module://ipykernel.pylab.backend_inline, which is a non-GUI backend, so cannot show the figure.\n"
     ]
    },
    {
     "data": {
      "image/png": "[encoded data removed]",
      "text/plain": [
       "<Figure size 720x720 with 2 Axes>"
      ]
     },
     "metadata": {
      "needs_background": "light"
     },
     "output_type": "display_data"
    }
   ],
   "source": [
    "fig, ax = plt.subplots(figsize=(10,10))\n",
    "#color=['red'] + ['green']*3 + ['blue']*3 + ['yellow']*3 +['red']*2\n",
    "from matplotlib.patches import Patch\n",
    "\n",
    "\n",
    "color=dict.fromkeys(list(winter.keys()), 'blue')\n",
    "color.update(dict.fromkeys(list(spring.keys()) , 'yellow'))\n",
    "color.update(dict.fromkeys(list(summer.keys()) , 'orange'))\n",
    "color.update(dict.fromkeys(list(autumn.keys()) , 'brown'))\n",
    "colours={'winter': 'blue', 'spring':'yellow', 'summer':'orange', 'autumn':'brown'}\n",
    "\n",
    "time=['Jan', 'Feb', 'Mar', 'Apr', 'May', 'Jun', 'Jul', 'Aug', 'Sep', 'Oct', 'Nov', 'Dec']\n",
    "color={k:color[k] for k in time}\n",
    "\n",
    "im=ax.bar(month.keys(), month.values(), color=color.values())\n",
    "\n",
    "\n",
    "def bagsSeason(season):\n",
    "    sum=0\n",
    "    for i in season.values():\n",
    "        sum+=month[i]\n",
    "\n",
    "    return str(sum)\n",
    "\n",
    "handlesleg=[\n",
    "    Patch(color='blue', label='winter: ' + bagsSeason(winter) + ' bags'),\n",
    "    Patch(color='yellow', label='spring: ' + bagsSeason(spring)+ ' bags'),\n",
    "    Patch(color='orange', label='summer: ' + bagsSeason(summer)+ ' bags'),\n",
    "    Patch(color='brown', label='autumn: ' + bagsSeason(autumn)+ ' bags')\n",
    "]\n",
    "plt.legend(handles=handlesleg)\n",
    "#time=range(1,13,1)\n",
    "ax.set_xticks(range(1,13,1))\n",
    "ax.set_xticklabels(time)\n",
    "ax.tick_params(labelsize=15)\n",
    "ax.set_xlabel(\"Month\", fontsize=25)\n",
    "ax.set_ylabel(\"Count of Bags\", fontsize=25)\n",
    "#ax.set_title(\"Count & Probability across the Months\", fontsize=40)\n",
    "\n",
    "def autolabel(rects):\n",
    "    for rect in rects:\n",
    "        height = rect.get_height()\n",
    "        ax.annotate('{}'.format(height),\n",
    "                    xy=(rect.get_x() + rect.get_width() / 2, height),\n",
    "                    xytext=(0, 3),\n",
    "                    textcoords=\"offset points\",\n",
    "                    ha='center', va='bottom')\n",
    "        \n",
    "\n",
    "\n",
    "autolabel(im)\n",
    "\n",
    "ax2=ax.twinx()\n",
    "ax2.plot(list(month.keys()), list(probMonth_dict.values()), marker='o', color='green')\n",
    "ax2.set_ylabel('Probability a bag is booked', fontsize=25, color='green')\n",
    "plt.savefig('count_prob.png')\n",
    "fig.show()\n"
   ]
  },
  {
   "cell_type": "markdown",
   "metadata": {},
   "source": [
    "## The effect of WeekendStay on"
   ]
  },
  {
   "cell_type": "code",
   "execution_count": 80,
   "metadata": {},
   "outputs": [
    {
     "data": {
      "text/plain": [
       "1    8285\n",
       "0    1522\n",
       "Name: weekendStay, dtype: int64"
      ]
     },
     "execution_count": 80,
     "metadata": {},
     "output_type": "execute_result"
    }
   ],
   "source": [
    "df.weekendStay.value_counts()"
   ]
  },
  {
   "cell_type": "code",
   "execution_count": 81,
   "metadata": {},
   "outputs": [],
   "source": [
    "probweekendStay={}\n",
    "isweekendStay=df[df.weekendStay==1]\n",
    "probweekendStay[1]=isweekendStay[isweekendStay.Booked==1].shape[0]/isweekendStay.shape[0]\n",
    "\n",
    "notweekendStay=df[df.weekendStay==0]\n",
    "probweekendStay[0]=notweekendStay[notweekendStay.Booked==1].shape[0]/notweekendStay.shape[0]"
   ]
  },
  {
   "cell_type": "code",
   "execution_count": 82,
   "metadata": {},
   "outputs": [
    {
     "data": {
      "image/png": "[encoded data removed]",
      "text/plain": [
       "<Figure size 720x504 with 1 Axes>"
      ]
     },
     "metadata": {
      "needs_background": "light"
     },
     "output_type": "display_data"
    }
   ],
   "source": [
    "fig, ax = plt.subplots(figsize=(10,7))\n",
    "ax.barh(['Travelled during a weekend', 'Did not travel during a weekend'], probweekendStay.values(), align='center', color=['green','blue'])\n",
    "ax.invert_yaxis()\n",
    "ax.tick_params(labelsize=20)\n",
    "ax.set_title(\"The affect of a weekend Stay on the probability a bag is purchased\", fontsize=30)\n",
    "ax.set_xlabel(\"Probability a Bag is Purchased\", fontsize=25)\n",
    "#plt.savefig('weekendProb.png',bbox_inches='tight')\n",
    "plt.show()"
   ]
  },
  {
   "cell_type": "markdown",
   "metadata": {},
   "source": [
    "# Splitting Data"
   ]
  },
  {
   "cell_type": "code",
   "execution_count": 83,
   "metadata": {
    "collapsed": true
   },
   "outputs": [
    {
     "data": {
      "text/plain": [
       "0       0\n",
       "1       0\n",
       "2       0\n",
       "3       0\n",
       "4       0\n",
       "5       0\n",
       "6       0\n",
       "7       1\n",
       "8       0\n",
       "9       1\n",
       "10      0\n",
       "11      0\n",
       "12      0\n",
       "13      0\n",
       "14      0\n",
       "15      0\n",
       "16      0\n",
       "17      1\n",
       "18      0\n",
       "19      1\n",
       "20      0\n",
       "21      0\n",
       "22      0\n",
       "23      0\n",
       "24      0\n",
       "25      0\n",
       "26      0\n",
       "27      0\n",
       "28      0\n",
       "29      1\n",
       "       ..\n",
       "9970    0\n",
       "9971    0\n",
       "9972    0\n",
       "9973    0\n",
       "9974    0\n",
       "9975    0\n",
       "9976    0\n",
       "9977    0\n",
       "9978    0\n",
       "9979    0\n",
       "9980    0\n",
       "9981    0\n",
       "9982    0\n",
       "9983    0\n",
       "9984    1\n",
       "9985    0\n",
       "9986    0\n",
       "9987    0\n",
       "9988    0\n",
       "9989    0\n",
       "9990    0\n",
       "9991    0\n",
       "9992    0\n",
       "9993    0\n",
       "9994    0\n",
       "9995    0\n",
       "9996    2\n",
       "9997    0\n",
       "9998    2\n",
       "9999    0\n",
       "Name: QuantityBooked, Length: 9807, dtype: int64"
      ]
     },
     "execution_count": 83,
     "metadata": {},
     "output_type": "execute_result"
    }
   ],
   "source": [
    "#remove column holding the number of bags purchased -> not needed\n",
    "df.pop('QuantityBooked')"
   ]
  },
  {
   "cell_type": "code",
   "execution_count": 84,
   "metadata": {},
   "outputs": [],
   "source": [
    "df.to_csv('cleanedData.csv', index=False)"
   ]
  },
  {
   "cell_type": "code",
   "execution_count": 85,
   "metadata": {},
   "outputs": [
    {
     "data": {
      "text/plain": [
       "(9807, 494)"
      ]
     },
     "execution_count": 85,
     "metadata": {},
     "output_type": "execute_result"
    }
   ],
   "source": [
    "df.shape"
   ]
  },
  {
   "cell_type": "code",
   "execution_count": 86,
   "metadata": {},
   "outputs": [],
   "source": [
    "from sklearn.model_selection import train_test_split"
   ]
  },
  {
   "cell_type": "code",
   "execution_count": 87,
   "metadata": {},
   "outputs": [],
   "source": [
    "train, test=train_test_split(df, test_size = 0.2, random_state = 42)"
   ]
  },
  {
   "cell_type": "code",
   "execution_count": 88,
   "metadata": {},
   "outputs": [],
   "source": [
    "train.to_csv('trainSet.csv',index=False)"
   ]
  },
  {
   "cell_type": "code",
   "execution_count": 89,
   "metadata": {},
   "outputs": [],
   "source": [
    "test.to_csv('testSet.csv',index=False)"
   ]
  },
  {
   "cell_type": "code",
   "execution_count": null,
   "metadata": {},
   "outputs": [],
   "source": []
  }
 ],
 "metadata": {
  "kernelspec": {
   "display_name": "Python 3",
   "language": "python",
   "name": "python3"
  },
  "language_info": {
   "codemirror_mode": {
    "name": "ipython",
    "version": 3
   },
   "file_extension": ".py",
   "mimetype": "text/x-python",
   "name": "python",
   "nbconvert_exporter": "python",
   "pygments_lexer": "ipython3",
   "version": "3.7.3"
  }
 },
 "nbformat": 4,
 "nbformat_minor": 2
}
